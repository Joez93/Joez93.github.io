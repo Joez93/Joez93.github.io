{
  "nbformat": 4,
  "nbformat_minor": 0,
  "metadata": {
    "kernelspec": {
      "display_name": "Python 3",
      "language": "python",
      "name": "python3"
    },
    "language_info": {
      "codemirror_mode": {
        "name": "ipython",
        "version": 3
      },
      "file_extension": ".py",
      "mimetype": "text/x-python",
      "name": "python",
      "nbconvert_exporter": "python",
      "pygments_lexer": "ipython3",
      "version": "3.6.6"
    },
    "toc": {
      "base_numbering": 1,
      "nav_menu": {},
      "number_sections": false,
      "sideBar": true,
      "skip_h1_title": false,
      "title_cell": "Table of Contents",
      "title_sidebar": "Contents",
      "toc_cell": false,
      "toc_position": {},
      "toc_section_display": true,
      "toc_window_display": false
    },
    "colab": {
      "name": "assignment1.ipynb",
      "provenance": [],
      "collapsed_sections": [],
      "include_colab_link": true
    }
  },
  "cells": [
    {
      "cell_type": "markdown",
      "metadata": {
        "id": "view-in-github",
        "colab_type": "text"
      },
      "source": [
        "<a href=\"https://colab.research.google.com/github/Joez93/Joez93.github.io/blob/master/assignment1.ipynb\" target=\"_parent\"><img src=\"https://colab.research.google.com/assets/colab-badge.svg\" alt=\"Open In Colab\"/></a>"
      ]
    },
    {
      "cell_type": "markdown",
      "metadata": {
        "id": "7YKQXhwpEvL8",
        "colab_type": "text"
      },
      "source": [
        "Before you turn this assignment in, make sure everything runs as expected. \n",
        "\n",
        "You can either **restart the kernel** (in the menu bar, select Kernel $\\rightarrow$ Restart and Clear Output) and then **run all cells** (in the menu bar, select Cell $\\rightarrow$ Run All). \n",
        "Or, you can simply **clear the output for all cells** (in the menu bar, select Cell $\\rightarrow$ All Output $\\rightarrow$ Clear) and then **run all cells** (in the menu bar, select Cell $\\rightarrow$ Run All).\n",
        "\n",
        "---"
      ]
    },
    {
      "cell_type": "markdown",
      "metadata": {
        "id": "yewuVS8V2MqX",
        "colab_type": "text"
      },
      "source": [
        ""
      ]
    },
    {
      "cell_type": "code",
      "metadata": {
        "id": "HQul1p9vEvMA",
        "colab_type": "code",
        "colab": {}
      },
      "source": [
        "NAME = \"joe\"\n",
        "COLLABORATORS = \"                   \n",
        "\""
      ],
      "execution_count": 0,
      "outputs": []
    },
    {
      "cell_type": "markdown",
      "metadata": {
        "id": "-iPVjfYoEvMF",
        "colab_type": "text"
      },
      "source": [
        "# Assignment 1 - Intro to Python\n",
        "\n",
        "(15 points)"
      ]
    },
    {
      "cell_type": "markdown",
      "metadata": {
        "id": "s-ES4E31EvMH",
        "colab_type": "text"
      },
      "source": [
        "## Learning Outcomes\n",
        "\n",
        "In this assignment you will practice:\n",
        "\n",
        "- Basic Python syntax\n",
        "- Writing simple Python functions\n",
        "- Working with strings and dictionaries"
      ]
    },
    {
      "cell_type": "markdown",
      "metadata": {
        "id": "pTHYd7MeEvMI",
        "colab_type": "text"
      },
      "source": [
        "## Question #1: Count symbols\n",
        "\n",
        "(3 points)"
      ]
    },
    {
      "cell_type": "markdown",
      "metadata": {
        "id": "nz6WjwQ8EvMK",
        "colab_type": "text"
      },
      "source": [
        "In this question, you are given a string `s` which represents a DNA string. The string `s` consists of symbols `'A', 'C', 'G',` and `'T'`. An example of a length 21 DNA string is `\"ATGCTTCAGAAAGGTCTTACG.\"` \n",
        "\n",
        "Your task is to write a code which will count the number of times each of the symbols `'A', 'C', 'G'`, and `'T'` occur in `s`. Your code should generate a **list of 4 integers** and **print it out**."
      ]
    },
    {
      "cell_type": "code",
      "metadata": {
        "id": "5GMnyv3mEvMM",
        "colab_type": "code",
        "colab": {}
      },
      "source": [
        "# Here is the DNA string:\n",
        "\n",
        "s = 'AGCTTTTCATTCTGACTGCAACGGGCAATATGTCTCTGTGTGGATTAAAAAAAGAGTGTCTGATAGCAGC'"
      ],
      "execution_count": 0,
      "outputs": []
    },
    {
      "cell_type": "code",
      "metadata": {
        "id": "4C3JyGIeEvMW",
        "colab_type": "code",
        "colab": {
          "base_uri": "https://localhost:8080/",
          "height": 87
        },
        "outputId": "968bbea1-8f13-46af-aebc-d37f3636eb80"
      },
      "source": [
        "#Count number of symbol \"A\"\n",
        "Count_A = s.count(\"A\") \n",
        "print(\"The number of symbol 'A' occured is \"+str(Count_A))\n",
        "#Count number of symbol \"C\"\n",
        "Count_C = s.count(\"C\") \n",
        "print(\"The number of symbol 'C' occured is \"+str(Count_C))\n",
        "#Count number of symbol \"G\"\n",
        "Count_G = s.count(\"G\") \n",
        "print(\"The number of symbol 'G' occured is \"+str(Count_G))\n",
        "#Count number of symbol \"T\"\n",
        "Count_T = s.count(\"T\") \n",
        "print(\"The number of symbol 'T' occured is \"+str(Count_T))\n"
      ],
      "execution_count": 14,
      "outputs": [
        {
          "output_type": "stream",
          "text": [
            "The number of symbol 'A' occured is 20\n",
            "The number of symbol 'C' occured is 12\n",
            "The number of symbol 'G' occured is 17\n",
            "The number of symbol 'T' occured is 21\n"
          ],
          "name": "stdout"
        }
      ]
    },
    {
      "cell_type": "markdown",
      "metadata": {
        "id": "vN47IpM5EvMb",
        "colab_type": "text"
      },
      "source": [
        "## Question #2: Find a substring\n",
        "\n",
        "(4 points)"
      ]
    },
    {
      "cell_type": "markdown",
      "metadata": {
        "id": "fvQVH6dKEvMd",
        "colab_type": "text"
      },
      "source": [
        "You are given a dictionary of the US states and their capitals. The keys in the dictionary are states and the values are capital names.\n",
        "\n",
        "Write a code to return a **list of all capitals** that contain the name of a state in their name as a substring.\n",
        "\n",
        "**HINT:** For example, `Indianapolis` as a capital name and `Indiana` as a state name is one of the key/value pairs that your code would find. Your code should add `Indianapolis` to the list. After you found all capitals and added them to the list, print out the list."
      ]
    },
    {
      "cell_type": "code",
      "metadata": {
        "id": "fRYyZSaTEvMg",
        "colab_type": "code",
        "colab": {
          "base_uri": "https://localhost:8080/",
          "height": 905
        },
        "outputId": "d09ac067-d2eb-419b-b5f0-d4d9ed9b7bff"
      },
      "source": [
        "# Run this cell to create a dictionary of states' capitals\n",
        "capitals={\n",
        "    'Alabama': 'Montgomery',\n",
        "    'Alaska': 'Juneau',\n",
        "    'Arizona':'Phoenix',\n",
        "    'Arkansas':'Little Rock',\n",
        "    'California': 'Sacramento',\n",
        "    'Colorado':'Denver',\n",
        "    'Connecticut':'Hartford',\n",
        "    'Delaware':'Dover',\n",
        "    'Florida': 'Tallahassee',\n",
        "    'Georgia': 'Atlanta',\n",
        "    'Hawaii': 'Honolulu',\n",
        "    'Idaho': 'Boise',\n",
        "    'Illinios': 'Springfield',\n",
        "    'Indiana': 'Indianapolis',\n",
        "    'Iowa': 'Des Monies',\n",
        "    'Kansas': 'Topeka',\n",
        "    'Kentucky': 'Frankfort',\n",
        "    'Louisiana': 'Baton Rouge',\n",
        "    'Maine': 'Augusta',\n",
        "    'Maryland': 'Annapolis',\n",
        "    'Massachusetts': 'Boston',\n",
        "    'Michigan': 'Lansing',\n",
        "    'Minnesota': 'St. Paul',\n",
        "    'Mississippi': 'Jackson',\n",
        "    'Missouri': 'Jefferson City',\n",
        "    'Montana': 'Helena',\n",
        "    'Nebraska': 'Lincoln',\n",
        "    'Neveda': 'Carson City',\n",
        "    'New Hampshire': 'Concord',\n",
        "    'New Jersey': 'Trenton',\n",
        "    'New Mexico': 'Santa Fe',\n",
        "    'New York': 'Albany',\n",
        "    'North Carolina': 'Raleigh',\n",
        "    'North Dakota': 'Bismarck',\n",
        "    'Ohio': 'Columbus',\n",
        "    'Oklahoma': 'Oklahoma City',\n",
        "    'Oregon': 'Salem',\n",
        "    'Pennsylvania': 'Harrisburg',\n",
        "    'Rhoda Island': 'Providence',\n",
        "    'South Carolina': 'Columbia',\n",
        "    'South Dakota': 'Pierre',\n",
        "    'Tennessee': 'Nashville',\n",
        "    'Texas': 'Austin',\n",
        "    'Utah': 'Salt Lake City',\n",
        "    'Vermont': 'Montpelier',\n",
        "    'Virginia': 'Richmond',\n",
        "    'Washington': 'Olympia',\n",
        "    'West Virginia': 'Charleston',\n",
        "    'Wisconsin': 'Madison',\n",
        "    'Wyoming': 'Cheyenne'  \n",
        "}\n",
        "capitals"
      ],
      "execution_count": 2,
      "outputs": [
        {
          "output_type": "execute_result",
          "data": {
            "text/plain": [
              "{'Alabama': 'Montgomery',\n",
              " 'Alaska': 'Juneau',\n",
              " 'Arizona': 'Phoenix',\n",
              " 'Arkansas': 'Little Rock',\n",
              " 'California': 'Sacramento',\n",
              " 'Colorado': 'Denver',\n",
              " 'Connecticut': 'Hartford',\n",
              " 'Delaware': 'Dover',\n",
              " 'Florida': 'Tallahassee',\n",
              " 'Georgia': 'Atlanta',\n",
              " 'Hawaii': 'Honolulu',\n",
              " 'Idaho': 'Boise',\n",
              " 'Illinios': 'Springfield',\n",
              " 'Indiana': 'Indianapolis',\n",
              " 'Iowa': 'Des Monies',\n",
              " 'Kansas': 'Topeka',\n",
              " 'Kentucky': 'Frankfort',\n",
              " 'Louisiana': 'Baton Rouge',\n",
              " 'Maine': 'Augusta',\n",
              " 'Maryland': 'Annapolis',\n",
              " 'Massachusetts': 'Boston',\n",
              " 'Michigan': 'Lansing',\n",
              " 'Minnesota': 'St. Paul',\n",
              " 'Mississippi': 'Jackson',\n",
              " 'Missouri': 'Jefferson City',\n",
              " 'Montana': 'Helena',\n",
              " 'Nebraska': 'Lincoln',\n",
              " 'Neveda': 'Carson City',\n",
              " 'New Hampshire': 'Concord',\n",
              " 'New Jersey': 'Trenton',\n",
              " 'New Mexico': 'Santa Fe',\n",
              " 'New York': 'Albany',\n",
              " 'North Carolina': 'Raleigh',\n",
              " 'North Dakota': 'Bismarck',\n",
              " 'Ohio': 'Columbus',\n",
              " 'Oklahoma': 'Oklahoma City',\n",
              " 'Oregon': 'Salem',\n",
              " 'Pennsylvania': 'Harrisburg',\n",
              " 'Rhoda Island': 'Providence',\n",
              " 'South Carolina': 'Columbia',\n",
              " 'South Dakota': 'Pierre',\n",
              " 'Tennessee': 'Nashville',\n",
              " 'Texas': 'Austin',\n",
              " 'Utah': 'Salt Lake City',\n",
              " 'Vermont': 'Montpelier',\n",
              " 'Virginia': 'Richmond',\n",
              " 'Washington': 'Olympia',\n",
              " 'West Virginia': 'Charleston',\n",
              " 'Wisconsin': 'Madison',\n",
              " 'Wyoming': 'Cheyenne'}"
            ]
          },
          "metadata": {
            "tags": []
          },
          "execution_count": 2
        }
      ]
    },
    {
      "cell_type": "code",
      "metadata": {
        "id": "fmL0l02tEvMr",
        "colab_type": "code",
        "colab": {}
      },
      "source": [
        "def duplicate(capitals):\n",
        "  duplist = []\n",
        "  for state in capitals:\n",
        "    if state in capitals[state]:\n",
        "      duplist.append(capitals[state])\n",
        "  return(duplist)\n",
        "duplicate(capitals)"
      ],
      "execution_count": 0,
      "outputs": []
    },
    {
      "cell_type": "markdown",
      "metadata": {
        "id": "km4dIoIwEvMv",
        "colab_type": "text"
      },
      "source": [
        "## Question #3: Is a data point within a rectangle?\n",
        "\n",
        "(4 points)"
      ]
    },
    {
      "cell_type": "markdown",
      "metadata": {
        "id": "OGP__qeTEvMw",
        "colab_type": "text"
      },
      "source": [
        "Write a function `isIn()` which returns **boolean `True`** if a point is within a rectangle specified by two sets of coordinates and **boolean `False`** if the point is outside the rectangle. The function should accept three parameters:\n",
        "- the first parameter is a set of coordinates which defines one of the corners of the rectangle, \n",
        "- the second parameter is also a set of coordinates that defines the second corner,\n",
        "- the third set of coordinates defines a single point which is being tested.\n",
        "\n",
        "For example, \n",
        "- `isIn((1,2), (3,4), (1.5, 3.2))` should return `True`, \n",
        "- `isIn((4,3.5), (2,1), (3, 2))` should return `True`, \n",
        "- `isIn((-1,0), (5,5), (6,0))` should return `False`,\n",
        "- `isIn((4,1), (2,4), (2.5,4.5))` should return `False`.\n",
        "\n",
        "Test your function with at least 2 different sets of data points in addition to the examples above.\n",
        "\n",
        "**NOTES:** \n",
        "1. If the point being tested is on the side of the rectangle, consider it to be within the rectangle. For example, if the rectangle is defined as `(1,2), (3,4)` and the point is `(2,2)`, the function should return `True`.\n",
        "2. In this assignment, we assume that the edges of the rectangle are parallel to coordinate axes.\n",
        "3. We also assume that the first parameter does not always represent the left corner of the rectangle and the second parameter is not always the right corner. The function should work correctly either way. Please note the second test condition above where the first parameter, `(4,3.5)`, represents the top-right corner and the second parameter, `(2,1)`, represents left-bottom corner. "
      ]
    },
    {
      "cell_type": "code",
      "metadata": {
        "id": "InWe4gCHEvMx",
        "colab_type": "code",
        "colab": {
          "base_uri": "https://localhost:8080/",
          "height": 34
        },
        "outputId": "d747f196-5679-462a-907c-162b6a4c139f"
      },
      "source": [
        "def isIn(firstCorner=(0,0), secondCorner=(0,0), point=(0,0)):\n",
        "  minimum_x = min(firstCorner[0], secondCorner[0])\n",
        "  maximum_x = max(firstCorner[0], secondCorner[0])\n",
        "  minimum_y = min(firstCorner[1], secondCorner[1])\n",
        "  maximum_y = max(firstCorner[1], secondCorner[1])\n",
        "  if point[0] >= minimum_x and point[0] <= maximum_x and point[1] >= minimum_y and point[1] <= maximum_y:\n",
        "    return True   \n",
        "  return False\n",
        "\n",
        "isIn((1,2), (3,4), (1.5, 3.2))"
      ],
      "execution_count": 114,
      "outputs": [
        {
          "output_type": "execute_result",
          "data": {
            "text/plain": [
              "True"
            ]
          },
          "metadata": {
            "tags": []
          },
          "execution_count": 114
        }
      ]
    },
    {
      "cell_type": "code",
      "metadata": {
        "id": "9C-E18aXEvM1",
        "colab_type": "code",
        "colab": {
          "base_uri": "https://localhost:8080/",
          "height": 34
        },
        "outputId": "88b365a4-abc8-4965-e5eb-00fc29974473"
      },
      "source": [
        "isIn((4,3.5), (2,1), (3, 2))"
      ],
      "execution_count": 113,
      "outputs": [
        {
          "output_type": "execute_result",
          "data": {
            "text/plain": [
              "True"
            ]
          },
          "metadata": {
            "tags": []
          },
          "execution_count": 113
        }
      ]
    },
    {
      "cell_type": "code",
      "metadata": {
        "id": "abhNw1mlEvM4",
        "colab_type": "code",
        "colab": {
          "base_uri": "https://localhost:8080/",
          "height": 34
        },
        "outputId": "aafd9afd-1afd-4d61-d8d1-43d3c17adf92"
      },
      "source": [
        "isIn((-1,0), (5,5), (6,0))"
      ],
      "execution_count": 102,
      "outputs": [
        {
          "output_type": "execute_result",
          "data": {
            "text/plain": [
              "False"
            ]
          },
          "metadata": {
            "tags": []
          },
          "execution_count": 102
        }
      ]
    },
    {
      "cell_type": "code",
      "metadata": {
        "id": "Vq1FJVPdEvM8",
        "colab_type": "code",
        "colab": {
          "base_uri": "https://localhost:8080/",
          "height": 34
        },
        "outputId": "f03b6ebc-bbb7-4fa0-f05c-ee865e264810"
      },
      "source": [
        "isIn((4,1), (2,4), (2.5,4.5))"
      ],
      "execution_count": 100,
      "outputs": [
        {
          "output_type": "execute_result",
          "data": {
            "text/plain": [
              "False"
            ]
          },
          "metadata": {
            "tags": []
          },
          "execution_count": 100
        }
      ]
    },
    {
      "cell_type": "markdown",
      "metadata": {
        "id": "azeNUrnpEvNA",
        "colab_type": "text"
      },
      "source": [
        "## Question #4: Are all points within a rectangle?\n",
        "\n",
        "(4 points)"
      ]
    },
    {
      "cell_type": "markdown",
      "metadata": {
        "id": "Dt81XuuaEvNC",
        "colab_type": "text"
      },
      "source": [
        "Modify your function from the previous question so it takes a list of points rather than a single point and returns **boolean `True`** only if all points in the list are in the rectangle.\n",
        "\n",
        "For example,\n",
        "\n",
        "- `allIn((0,0), (5,5), [(1,1), (0,0), (5,5)])` should return `True`\n",
        "- but `allIn((0,0), (5,5), [(1,1), (0,0), (5,6)])` should return `False`\n",
        "- empty list of points `allIn((0,0), (5,5), [])` should return `False`\n",
        "\n",
        "Use the same assumptions as above about the placement of the points and how rectangle is defined. Make sure that your function returns `False` for empty list of points (no values).\n",
        "\n",
        "Test your function with at least 3 different sets of data points."
      ]
    },
    {
      "cell_type": "code",
      "metadata": {
        "id": "VrArEQj7EvNE",
        "colab_type": "code",
        "colab": {}
      },
      "source": [
        "def allIn(firstCorner=(0,0), secondCorner=(0,0), pointList=[]):\n",
        "  if pointList == []:\n",
        "    return False;\n",
        "  minimum_x = min(firstCorner[0], secondCorner[0])\n",
        "  maximum_x = max(firstCorner[0], secondCorner[0])\n",
        "  minimum_y = min(firstCorner[1], secondCorner[1])\n",
        "  maximum_y = max(firstCorner[1], secondCorner[1])\n",
        "  for point in pointList:\n",
        "    if point[0] >= minimum_x and point[0] <= maximum_x and point[1] >= minimum_y and point[1] <= maximum_y:\n",
        "      continue\n",
        "    else:\n",
        "      return False\n",
        "  return True"
      ],
      "execution_count": 0,
      "outputs": []
    },
    {
      "cell_type": "code",
      "metadata": {
        "id": "CMZhsHD2EvNH",
        "colab_type": "code",
        "colab": {
          "base_uri": "https://localhost:8080/",
          "height": 34
        },
        "outputId": "aa02678a-0f48-4128-a19a-26bbb3e7bf15"
      },
      "source": [
        "allIn((0,0), (5,5), [(1,1), (0,0), (5,5)])"
      ],
      "execution_count": 146,
      "outputs": [
        {
          "output_type": "execute_result",
          "data": {
            "text/plain": [
              "True"
            ]
          },
          "metadata": {
            "tags": []
          },
          "execution_count": 146
        }
      ]
    },
    {
      "cell_type": "code",
      "metadata": {
        "id": "l_Fv0sjqEvNN",
        "colab_type": "code",
        "colab": {
          "base_uri": "https://localhost:8080/",
          "height": 34
        },
        "outputId": "0fb646fa-efb0-41fe-81f7-c810d4f8acf2"
      },
      "source": [
        "allIn((0,0), (5,5), [(1,1), (0,0), (5,6)])"
      ],
      "execution_count": 147,
      "outputs": [
        {
          "output_type": "execute_result",
          "data": {
            "text/plain": [
              "False"
            ]
          },
          "metadata": {
            "tags": []
          },
          "execution_count": 147
        }
      ]
    },
    {
      "cell_type": "code",
      "metadata": {
        "id": "Fr-9o0rqEvNP",
        "colab_type": "code",
        "colab": {
          "base_uri": "https://localhost:8080/",
          "height": 34
        },
        "outputId": "4ccfbe1a-bcd4-43d0-b8bc-a500e1438abe"
      },
      "source": [
        "allIn((0,0), (5,5), [])"
      ],
      "execution_count": 148,
      "outputs": [
        {
          "output_type": "execute_result",
          "data": {
            "text/plain": [
              "False"
            ]
          },
          "metadata": {
            "tags": []
          },
          "execution_count": 148
        }
      ]
    },
    {
      "cell_type": "code",
      "metadata": {
        "id": "8w_9UzfWEvNT",
        "colab_type": "code",
        "colab": {}
      },
      "source": [
        ""
      ],
      "execution_count": 0,
      "outputs": []
    },
    {
      "cell_type": "code",
      "metadata": {
        "id": "Rlv_lkXDEvNW",
        "colab_type": "code",
        "colab": {}
      },
      "source": [
        ""
      ],
      "execution_count": 0,
      "outputs": []
    }
  ]
}