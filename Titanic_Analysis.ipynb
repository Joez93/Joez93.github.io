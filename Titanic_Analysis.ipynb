{
  "nbformat": 4,
  "nbformat_minor": 0,
  "metadata": {
    "colab": {
      "name": "Titanic Analysis.ipynb",
      "provenance": [],
      "collapsed_sections": [],
      "authorship_tag": "ABX9TyNEmNsQ78A+fWx+OP8/Qhou",
      "include_colab_link": true
    },
    "kernelspec": {
      "name": "python3",
      "display_name": "Python 3"
    }
  },
  "cells": [
    {
      "cell_type": "markdown",
      "metadata": {
        "id": "view-in-github",
        "colab_type": "text"
      },
      "source": [
        "<a href=\"https://colab.research.google.com/github/Joez93/Joez93.github.io/blob/master/Titanic_Analysis.ipynb\" target=\"_parent\"><img src=\"https://colab.research.google.com/assets/colab-badge.svg\" alt=\"Open In Colab\"/></a>"
      ]
    },
    {
      "cell_type": "markdown",
      "metadata": {
        "id": "bBYJjS0F0rTS",
        "colab_type": "text"
      },
      "source": [
        "Write by\n",
        "# RENPENG ZHOU"
      ]
    },
    {
      "cell_type": "code",
      "metadata": {
        "id": "CiEtzNYCN70K",
        "colab_type": "code",
        "colab": {}
      },
      "source": [
        "import numpy as np\n",
        "import pandas as pd\n",
        "import statistics \n",
        "from numpy import median\n",
        "from numpy import mean"
      ],
      "execution_count": 0,
      "outputs": []
    },
    {
      "cell_type": "markdown",
      "metadata": {
        "id": "9hle1mteBg9y",
        "colab_type": "text"
      },
      "source": [
        "Import data to first dataframe"
      ]
    },
    {
      "cell_type": "code",
      "metadata": {
        "id": "mvmXZWhYO1HT",
        "colab_type": "code",
        "colab": {}
      },
      "source": [
        "# Import data from Web to create a dateframe\n",
        "df = pd.read_csv(\"https://raw.githubusercontent.com/Joez93/Joez93.github.io/594b6de6d7b2f0183acce42e42572267e38c0f2b/train.csv\")"
      ],
      "execution_count": 0,
      "outputs": []
    },
    {
      "cell_type": "markdown",
      "metadata": {
        "id": "tCXdsRNrBt60",
        "colab_type": "text"
      },
      "source": [
        "Check data type, **Numerical** or **Categorical**"
      ]
    },
    {
      "cell_type": "code",
      "metadata": {
        "id": "KdzTBH5oAC1N",
        "colab_type": "code",
        "colab": {
          "base_uri": "https://localhost:8080/",
          "height": 311
        },
        "outputId": "19fc2578-93b7-404d-f6e0-48807618ca88"
      },
      "source": [
        "# See all date type of the dataframe\n",
        "df.info()"
      ],
      "execution_count": 161,
      "outputs": [
        {
          "output_type": "stream",
          "text": [
            "<class 'pandas.core.frame.DataFrame'>\n",
            "RangeIndex: 891 entries, 0 to 890\n",
            "Data columns (total 12 columns):\n",
            "PassengerId    891 non-null int64\n",
            "Survived       891 non-null int64\n",
            "Pclass         891 non-null int64\n",
            "Name           891 non-null object\n",
            "Sex            891 non-null object\n",
            "Age            714 non-null float64\n",
            "SibSp          891 non-null int64\n",
            "Parch          891 non-null int64\n",
            "Ticket         891 non-null object\n",
            "Fare           891 non-null float64\n",
            "Cabin          204 non-null object\n",
            "Embarked       889 non-null object\n",
            "dtypes: float64(2), int64(5), object(5)\n",
            "memory usage: 83.7+ KB\n"
          ],
          "name": "stdout"
        }
      ]
    },
    {
      "cell_type": "code",
      "metadata": {
        "id": "i3Sm8ehtDT31",
        "colab_type": "code",
        "colab": {
          "base_uri": "https://localhost:8080/",
          "height": 288
        },
        "outputId": "5a2aeb6d-136e-435b-e40c-ebb34d1e5608"
      },
      "source": [
        "# Get a basic statistic info of the dataframe\n",
        "df.describe()"
      ],
      "execution_count": 162,
      "outputs": [
        {
          "output_type": "execute_result",
          "data": {
            "text/html": [
              "<div>\n",
              "<style scoped>\n",
              "    .dataframe tbody tr th:only-of-type {\n",
              "        vertical-align: middle;\n",
              "    }\n",
              "\n",
              "    .dataframe tbody tr th {\n",
              "        vertical-align: top;\n",
              "    }\n",
              "\n",
              "    .dataframe thead th {\n",
              "        text-align: right;\n",
              "    }\n",
              "</style>\n",
              "<table border=\"1\" class=\"dataframe\">\n",
              "  <thead>\n",
              "    <tr style=\"text-align: right;\">\n",
              "      <th></th>\n",
              "      <th>PassengerId</th>\n",
              "      <th>Survived</th>\n",
              "      <th>Pclass</th>\n",
              "      <th>Age</th>\n",
              "      <th>SibSp</th>\n",
              "      <th>Parch</th>\n",
              "      <th>Fare</th>\n",
              "    </tr>\n",
              "  </thead>\n",
              "  <tbody>\n",
              "    <tr>\n",
              "      <th>count</th>\n",
              "      <td>891.000000</td>\n",
              "      <td>891.000000</td>\n",
              "      <td>891.000000</td>\n",
              "      <td>714.000000</td>\n",
              "      <td>891.000000</td>\n",
              "      <td>891.000000</td>\n",
              "      <td>891.000000</td>\n",
              "    </tr>\n",
              "    <tr>\n",
              "      <th>mean</th>\n",
              "      <td>446.000000</td>\n",
              "      <td>0.383838</td>\n",
              "      <td>2.308642</td>\n",
              "      <td>29.699118</td>\n",
              "      <td>0.523008</td>\n",
              "      <td>0.381594</td>\n",
              "      <td>32.204208</td>\n",
              "    </tr>\n",
              "    <tr>\n",
              "      <th>std</th>\n",
              "      <td>257.353842</td>\n",
              "      <td>0.486592</td>\n",
              "      <td>0.836071</td>\n",
              "      <td>14.526497</td>\n",
              "      <td>1.102743</td>\n",
              "      <td>0.806057</td>\n",
              "      <td>49.693429</td>\n",
              "    </tr>\n",
              "    <tr>\n",
              "      <th>min</th>\n",
              "      <td>1.000000</td>\n",
              "      <td>0.000000</td>\n",
              "      <td>1.000000</td>\n",
              "      <td>0.420000</td>\n",
              "      <td>0.000000</td>\n",
              "      <td>0.000000</td>\n",
              "      <td>0.000000</td>\n",
              "    </tr>\n",
              "    <tr>\n",
              "      <th>25%</th>\n",
              "      <td>223.500000</td>\n",
              "      <td>0.000000</td>\n",
              "      <td>2.000000</td>\n",
              "      <td>20.125000</td>\n",
              "      <td>0.000000</td>\n",
              "      <td>0.000000</td>\n",
              "      <td>7.910400</td>\n",
              "    </tr>\n",
              "    <tr>\n",
              "      <th>50%</th>\n",
              "      <td>446.000000</td>\n",
              "      <td>0.000000</td>\n",
              "      <td>3.000000</td>\n",
              "      <td>28.000000</td>\n",
              "      <td>0.000000</td>\n",
              "      <td>0.000000</td>\n",
              "      <td>14.454200</td>\n",
              "    </tr>\n",
              "    <tr>\n",
              "      <th>75%</th>\n",
              "      <td>668.500000</td>\n",
              "      <td>1.000000</td>\n",
              "      <td>3.000000</td>\n",
              "      <td>38.000000</td>\n",
              "      <td>1.000000</td>\n",
              "      <td>0.000000</td>\n",
              "      <td>31.000000</td>\n",
              "    </tr>\n",
              "    <tr>\n",
              "      <th>max</th>\n",
              "      <td>891.000000</td>\n",
              "      <td>1.000000</td>\n",
              "      <td>3.000000</td>\n",
              "      <td>80.000000</td>\n",
              "      <td>8.000000</td>\n",
              "      <td>6.000000</td>\n",
              "      <td>512.329200</td>\n",
              "    </tr>\n",
              "  </tbody>\n",
              "</table>\n",
              "</div>"
            ],
            "text/plain": [
              "       PassengerId    Survived      Pclass  ...       SibSp       Parch        Fare\n",
              "count   891.000000  891.000000  891.000000  ...  891.000000  891.000000  891.000000\n",
              "mean    446.000000    0.383838    2.308642  ...    0.523008    0.381594   32.204208\n",
              "std     257.353842    0.486592    0.836071  ...    1.102743    0.806057   49.693429\n",
              "min       1.000000    0.000000    1.000000  ...    0.000000    0.000000    0.000000\n",
              "25%     223.500000    0.000000    2.000000  ...    0.000000    0.000000    7.910400\n",
              "50%     446.000000    0.000000    3.000000  ...    0.000000    0.000000   14.454200\n",
              "75%     668.500000    1.000000    3.000000  ...    1.000000    0.000000   31.000000\n",
              "max     891.000000    1.000000    3.000000  ...    8.000000    6.000000  512.329200\n",
              "\n",
              "[8 rows x 7 columns]"
            ]
          },
          "metadata": {
            "tags": []
          },
          "execution_count": 162
        }
      ]
    },
    {
      "cell_type": "markdown",
      "metadata": {
        "id": "qA0DsAMOCXe6",
        "colab_type": "text"
      },
      "source": [
        "891 people on borad, and from the mean of Survived columns we can know Only 38.3838% people survived"
      ]
    },
    {
      "cell_type": "code",
      "metadata": {
        "colab_type": "code",
        "outputId": "812a5508-9895-4d8f-d18e-53059927fce2",
        "id": "jWiXq57kTbGo",
        "colab": {
          "base_uri": "https://localhost:8080/",
          "height": 52
        }
      },
      "source": [
        "# Find all survivors and count total\n",
        "survival = df.loc[(df['Survived'] == 1)]\n",
        "print ('Total people survived is ' + str(len(survival)))\n",
        "# Double Check surivial rate\n",
        "survial_rate = float(round(342/891, 3))\n",
        "print(\"The survivial rate is \" + str(survial_rate*100) + \"%\")"
      ],
      "execution_count": 163,
      "outputs": [
        {
          "output_type": "stream",
          "text": [
            "Total people survived is 342\n",
            "The survivial rate is 38.4%\n"
          ],
          "name": "stdout"
        }
      ]
    },
    {
      "cell_type": "markdown",
      "metadata": {
        "id": "RPFPdr1iCwGp",
        "colab_type": "text"
      },
      "source": [
        "\n",
        "\n",
        "---\n",
        "\n",
        "\n",
        "# Find NaN values from dataframe and replacing them\n",
        "\n",
        "\n"
      ]
    },
    {
      "cell_type": "code",
      "metadata": {
        "id": "gAqFfjn0OCoh",
        "colab_type": "code",
        "colab": {
          "base_uri": "https://localhost:8080/",
          "height": 242
        },
        "outputId": "6f2305cf-2b7c-44fd-f920-2432e8396343"
      },
      "source": [
        "# Find total number of missing value of each columns\n",
        "NaN_value = df.isnull().sum().sort_values(ascending = False)\n",
        "NaN_value"
      ],
      "execution_count": 164,
      "outputs": [
        {
          "output_type": "execute_result",
          "data": {
            "text/plain": [
              "Cabin          687\n",
              "Age            177\n",
              "Embarked         2\n",
              "Fare             0\n",
              "Ticket           0\n",
              "Parch            0\n",
              "SibSp            0\n",
              "Sex              0\n",
              "Name             0\n",
              "Pclass           0\n",
              "Survived         0\n",
              "PassengerId      0\n",
              "dtype: int64"
            ]
          },
          "metadata": {
            "tags": []
          },
          "execution_count": 164
        }
      ]
    },
    {
      "cell_type": "markdown",
      "metadata": {
        "id": "dX0I_XLvAQw3",
        "colab_type": "text"
      },
      "source": [
        "\n",
        "\n",
        "# 1.   Exclude attribute \"cabin\" since it has too many vacancies to make reasonable analysis\n",
        "# 2.   Exclude attribute \"Ticket\" since the ticket numbers were just random reference numbers, and they are meaningless to survival rate\n",
        "\n",
        "\n",
        "\n"
      ]
    },
    {
      "cell_type": "code",
      "metadata": {
        "id": "eBV8VRcqUSkx",
        "colab_type": "code",
        "colab": {
          "base_uri": "https://localhost:8080/",
          "height": 138
        },
        "outputId": "f2c7d523-0b83-4d87-db8d-ab7533b75b41"
      },
      "source": [
        "# Delete column \"cabin\" since it has too many vacancies\n",
        "# Delete column \"Ticket\" since the ticket number is meaningless to survival rate\n",
        "df_2 = df.drop(columns = ['Cabin','Ticket'])\n",
        "# Testing\n",
        "df_2.head(3)"
      ],
      "execution_count": 165,
      "outputs": [
        {
          "output_type": "execute_result",
          "data": {
            "text/html": [
              "<div>\n",
              "<style scoped>\n",
              "    .dataframe tbody tr th:only-of-type {\n",
              "        vertical-align: middle;\n",
              "    }\n",
              "\n",
              "    .dataframe tbody tr th {\n",
              "        vertical-align: top;\n",
              "    }\n",
              "\n",
              "    .dataframe thead th {\n",
              "        text-align: right;\n",
              "    }\n",
              "</style>\n",
              "<table border=\"1\" class=\"dataframe\">\n",
              "  <thead>\n",
              "    <tr style=\"text-align: right;\">\n",
              "      <th></th>\n",
              "      <th>PassengerId</th>\n",
              "      <th>Survived</th>\n",
              "      <th>Pclass</th>\n",
              "      <th>Name</th>\n",
              "      <th>Sex</th>\n",
              "      <th>Age</th>\n",
              "      <th>SibSp</th>\n",
              "      <th>Parch</th>\n",
              "      <th>Fare</th>\n",
              "      <th>Embarked</th>\n",
              "    </tr>\n",
              "  </thead>\n",
              "  <tbody>\n",
              "    <tr>\n",
              "      <th>0</th>\n",
              "      <td>1</td>\n",
              "      <td>0</td>\n",
              "      <td>3</td>\n",
              "      <td>Braund, Mr. Owen Harris</td>\n",
              "      <td>male</td>\n",
              "      <td>22.0</td>\n",
              "      <td>1</td>\n",
              "      <td>0</td>\n",
              "      <td>7.2500</td>\n",
              "      <td>S</td>\n",
              "    </tr>\n",
              "    <tr>\n",
              "      <th>1</th>\n",
              "      <td>2</td>\n",
              "      <td>1</td>\n",
              "      <td>1</td>\n",
              "      <td>Cumings, Mrs. John Bradley (Florence Briggs Th...</td>\n",
              "      <td>female</td>\n",
              "      <td>38.0</td>\n",
              "      <td>1</td>\n",
              "      <td>0</td>\n",
              "      <td>71.2833</td>\n",
              "      <td>C</td>\n",
              "    </tr>\n",
              "    <tr>\n",
              "      <th>2</th>\n",
              "      <td>3</td>\n",
              "      <td>1</td>\n",
              "      <td>3</td>\n",
              "      <td>Heikkinen, Miss. Laina</td>\n",
              "      <td>female</td>\n",
              "      <td>26.0</td>\n",
              "      <td>0</td>\n",
              "      <td>0</td>\n",
              "      <td>7.9250</td>\n",
              "      <td>S</td>\n",
              "    </tr>\n",
              "  </tbody>\n",
              "</table>\n",
              "</div>"
            ],
            "text/plain": [
              "   PassengerId  Survived  Pclass  ... Parch     Fare  Embarked\n",
              "0            1         0       3  ...     0   7.2500         S\n",
              "1            2         1       1  ...     0  71.2833         C\n",
              "2            3         1       3  ...     0   7.9250         S\n",
              "\n",
              "[3 rows x 10 columns]"
            ]
          },
          "metadata": {
            "tags": []
          },
          "execution_count": 165
        }
      ]
    },
    {
      "cell_type": "markdown",
      "metadata": {
        "id": "u8BwNJh8R_c-",
        "colab_type": "text"
      },
      "source": [
        "# Modify dataframe"
      ]
    },
    {
      "cell_type": "markdown",
      "metadata": {
        "id": "HaSbYR_6Da4h",
        "colab_type": "text"
      },
      "source": [
        "Replace all vacancies of age with the average age of remaining"
      ]
    },
    {
      "cell_type": "code",
      "metadata": {
        "id": "xKfWB06bNsqx",
        "colab_type": "code",
        "colab": {
          "base_uri": "https://localhost:8080/",
          "height": 425
        },
        "outputId": "3f219214-30d8-4278-9c07-0ab0cf13eb9a"
      },
      "source": [
        "# Modifing \"Age\" column\n",
        "Ages = df_2.loc[:,'Age']\n",
        "Average_Age = round(Ages.mean(),0)  # Find average age\n",
        "print(\"The average age is \" + str(Average_Age))\n",
        "Ages.fillna(Average_Age, inplace = True) \n",
        "df_2.replace(df_2['Age'], pd.Series(Ages))"
      ],
      "execution_count": 166,
      "outputs": [
        {
          "output_type": "stream",
          "text": [
            "The average age is 30.0\n"
          ],
          "name": "stdout"
        },
        {
          "output_type": "execute_result",
          "data": {
            "text/html": [
              "<div>\n",
              "<style scoped>\n",
              "    .dataframe tbody tr th:only-of-type {\n",
              "        vertical-align: middle;\n",
              "    }\n",
              "\n",
              "    .dataframe tbody tr th {\n",
              "        vertical-align: top;\n",
              "    }\n",
              "\n",
              "    .dataframe thead th {\n",
              "        text-align: right;\n",
              "    }\n",
              "</style>\n",
              "<table border=\"1\" class=\"dataframe\">\n",
              "  <thead>\n",
              "    <tr style=\"text-align: right;\">\n",
              "      <th></th>\n",
              "      <th>PassengerId</th>\n",
              "      <th>Survived</th>\n",
              "      <th>Pclass</th>\n",
              "      <th>Name</th>\n",
              "      <th>Sex</th>\n",
              "      <th>Age</th>\n",
              "      <th>SibSp</th>\n",
              "      <th>Parch</th>\n",
              "      <th>Fare</th>\n",
              "      <th>Embarked</th>\n",
              "    </tr>\n",
              "  </thead>\n",
              "  <tbody>\n",
              "    <tr>\n",
              "      <th>0</th>\n",
              "      <td>1</td>\n",
              "      <td>0</td>\n",
              "      <td>3</td>\n",
              "      <td>Braund, Mr. Owen Harris</td>\n",
              "      <td>male</td>\n",
              "      <td>22.0</td>\n",
              "      <td>1</td>\n",
              "      <td>0</td>\n",
              "      <td>7.2500</td>\n",
              "      <td>S</td>\n",
              "    </tr>\n",
              "    <tr>\n",
              "      <th>1</th>\n",
              "      <td>2</td>\n",
              "      <td>1</td>\n",
              "      <td>1</td>\n",
              "      <td>Cumings, Mrs. John Bradley (Florence Briggs Th...</td>\n",
              "      <td>female</td>\n",
              "      <td>38.0</td>\n",
              "      <td>1</td>\n",
              "      <td>0</td>\n",
              "      <td>71.2833</td>\n",
              "      <td>C</td>\n",
              "    </tr>\n",
              "    <tr>\n",
              "      <th>2</th>\n",
              "      <td>3</td>\n",
              "      <td>1</td>\n",
              "      <td>3</td>\n",
              "      <td>Heikkinen, Miss. Laina</td>\n",
              "      <td>female</td>\n",
              "      <td>26.0</td>\n",
              "      <td>0</td>\n",
              "      <td>0</td>\n",
              "      <td>7.9250</td>\n",
              "      <td>S</td>\n",
              "    </tr>\n",
              "    <tr>\n",
              "      <th>3</th>\n",
              "      <td>4</td>\n",
              "      <td>1</td>\n",
              "      <td>1</td>\n",
              "      <td>Futrelle, Mrs. Jacques Heath (Lily May Peel)</td>\n",
              "      <td>female</td>\n",
              "      <td>35.0</td>\n",
              "      <td>1</td>\n",
              "      <td>0</td>\n",
              "      <td>53.1000</td>\n",
              "      <td>S</td>\n",
              "    </tr>\n",
              "    <tr>\n",
              "      <th>4</th>\n",
              "      <td>5</td>\n",
              "      <td>0</td>\n",
              "      <td>3</td>\n",
              "      <td>Allen, Mr. William Henry</td>\n",
              "      <td>male</td>\n",
              "      <td>35.0</td>\n",
              "      <td>0</td>\n",
              "      <td>0</td>\n",
              "      <td>8.0500</td>\n",
              "      <td>S</td>\n",
              "    </tr>\n",
              "    <tr>\n",
              "      <th>...</th>\n",
              "      <td>...</td>\n",
              "      <td>...</td>\n",
              "      <td>...</td>\n",
              "      <td>...</td>\n",
              "      <td>...</td>\n",
              "      <td>...</td>\n",
              "      <td>...</td>\n",
              "      <td>...</td>\n",
              "      <td>...</td>\n",
              "      <td>...</td>\n",
              "    </tr>\n",
              "    <tr>\n",
              "      <th>886</th>\n",
              "      <td>887</td>\n",
              "      <td>0</td>\n",
              "      <td>2</td>\n",
              "      <td>Montvila, Rev. Juozas</td>\n",
              "      <td>male</td>\n",
              "      <td>27.0</td>\n",
              "      <td>0</td>\n",
              "      <td>0</td>\n",
              "      <td>13.0000</td>\n",
              "      <td>S</td>\n",
              "    </tr>\n",
              "    <tr>\n",
              "      <th>887</th>\n",
              "      <td>888</td>\n",
              "      <td>1</td>\n",
              "      <td>1</td>\n",
              "      <td>Graham, Miss. Margaret Edith</td>\n",
              "      <td>female</td>\n",
              "      <td>19.0</td>\n",
              "      <td>0</td>\n",
              "      <td>0</td>\n",
              "      <td>30.0000</td>\n",
              "      <td>S</td>\n",
              "    </tr>\n",
              "    <tr>\n",
              "      <th>888</th>\n",
              "      <td>889</td>\n",
              "      <td>0</td>\n",
              "      <td>3</td>\n",
              "      <td>Johnston, Miss. Catherine Helen \"Carrie\"</td>\n",
              "      <td>female</td>\n",
              "      <td>30.0</td>\n",
              "      <td>1</td>\n",
              "      <td>2</td>\n",
              "      <td>23.4500</td>\n",
              "      <td>S</td>\n",
              "    </tr>\n",
              "    <tr>\n",
              "      <th>889</th>\n",
              "      <td>890</td>\n",
              "      <td>1</td>\n",
              "      <td>1</td>\n",
              "      <td>Behr, Mr. Karl Howell</td>\n",
              "      <td>male</td>\n",
              "      <td>26.0</td>\n",
              "      <td>0</td>\n",
              "      <td>0</td>\n",
              "      <td>30.0000</td>\n",
              "      <td>C</td>\n",
              "    </tr>\n",
              "    <tr>\n",
              "      <th>890</th>\n",
              "      <td>891</td>\n",
              "      <td>0</td>\n",
              "      <td>3</td>\n",
              "      <td>Dooley, Mr. Patrick</td>\n",
              "      <td>male</td>\n",
              "      <td>32.0</td>\n",
              "      <td>0</td>\n",
              "      <td>0</td>\n",
              "      <td>7.7500</td>\n",
              "      <td>Q</td>\n",
              "    </tr>\n",
              "  </tbody>\n",
              "</table>\n",
              "<p>891 rows × 10 columns</p>\n",
              "</div>"
            ],
            "text/plain": [
              "     PassengerId  Survived  Pclass  ... Parch     Fare  Embarked\n",
              "0              1         0       3  ...     0   7.2500         S\n",
              "1              2         1       1  ...     0  71.2833         C\n",
              "2              3         1       3  ...     0   7.9250         S\n",
              "3              4         1       1  ...     0  53.1000         S\n",
              "4              5         0       3  ...     0   8.0500         S\n",
              "..           ...       ...     ...  ...   ...      ...       ...\n",
              "886          887         0       2  ...     0  13.0000         S\n",
              "887          888         1       1  ...     0  30.0000         S\n",
              "888          889         0       3  ...     2  23.4500         S\n",
              "889          890         1       1  ...     0  30.0000         C\n",
              "890          891         0       3  ...     0   7.7500         Q\n",
              "\n",
              "[891 rows x 10 columns]"
            ]
          },
          "metadata": {
            "tags": []
          },
          "execution_count": 166
        }
      ]
    },
    {
      "cell_type": "code",
      "metadata": {
        "id": "ZV_731vOjzBB",
        "colab_type": "code",
        "colab": {
          "base_uri": "https://localhost:8080/",
          "height": 276
        },
        "outputId": "8db19148-e0d0-4ed1-8d1d-fd6d3e9daab0"
      },
      "source": [
        "# Change data type of 'Age' to integer\n",
        "df_2['Age'] = df_2['Age'].astype(np.int64)\n",
        "df_2.info()"
      ],
      "execution_count": 167,
      "outputs": [
        {
          "output_type": "stream",
          "text": [
            "<class 'pandas.core.frame.DataFrame'>\n",
            "RangeIndex: 891 entries, 0 to 890\n",
            "Data columns (total 10 columns):\n",
            "PassengerId    891 non-null int64\n",
            "Survived       891 non-null int64\n",
            "Pclass         891 non-null int64\n",
            "Name           891 non-null object\n",
            "Sex            891 non-null object\n",
            "Age            891 non-null int64\n",
            "SibSp          891 non-null int64\n",
            "Parch          891 non-null int64\n",
            "Fare           891 non-null float64\n",
            "Embarked       889 non-null object\n",
            "dtypes: float64(1), int64(6), object(3)\n",
            "memory usage: 69.7+ KB\n"
          ],
          "name": "stdout"
        }
      ]
    },
    {
      "cell_type": "code",
      "metadata": {
        "colab_type": "code",
        "outputId": "30f093f4-2376-42d8-b453-1227196314f2",
        "id": "lcY6opYMliEm",
        "colab": {
          "base_uri": "https://localhost:8080/",
          "height": 104
        }
      },
      "source": [
        "print(\"Counts each Embarked\")\n",
        "df_2['Embarked'].value_counts()"
      ],
      "execution_count": 168,
      "outputs": [
        {
          "output_type": "stream",
          "text": [
            "Counts each Embarked\n"
          ],
          "name": "stdout"
        },
        {
          "output_type": "execute_result",
          "data": {
            "text/plain": [
              "S    644\n",
              "C    168\n",
              "Q     77\n",
              "Name: Embarked, dtype: int64"
            ]
          },
          "metadata": {
            "tags": []
          },
          "execution_count": 168
        }
      ]
    },
    {
      "cell_type": "markdown",
      "metadata": {
        "id": "VgvvvDY7FMJJ",
        "colab_type": "text"
      },
      "source": [
        "Replace the 2 mississ entries of 'Embarked' with major Embark 'S' beacasue 'S' is dorminte in numbers(644 out of 891)"
      ]
    },
    {
      "cell_type": "code",
      "metadata": {
        "id": "GwxHnqE4d_B2",
        "colab_type": "code",
        "colab": {
          "base_uri": "https://localhost:8080/",
          "height": 86
        },
        "outputId": "92f68a49-0475-4af0-ea10-5d6a07a21088"
      },
      "source": [
        "Major_Embark = 'S'\n",
        "Embarked = df_2.loc[:,'Embarked']\n",
        "Embarked.fillna(Major_Embark, inplace = True)\n",
        "df_2.replace(df_2['Embarked'],pd.Series(Embarked))\n",
        "df_2['Embarked'].value_counts()"
      ],
      "execution_count": 169,
      "outputs": [
        {
          "output_type": "execute_result",
          "data": {
            "text/plain": [
              "S    646\n",
              "C    168\n",
              "Q     77\n",
              "Name: Embarked, dtype: int64"
            ]
          },
          "metadata": {
            "tags": []
          },
          "execution_count": 169
        }
      ]
    },
    {
      "cell_type": "markdown",
      "metadata": {
        "id": "T9AwRSnuSHhw",
        "colab_type": "text"
      },
      "source": [
        "\n",
        "\n",
        "---\n",
        "\n",
        "\n",
        "# Analyzing features of Survivial rate "
      ]
    },
    {
      "cell_type": "markdown",
      "metadata": {
        "id": "Y6_Jv7kO8KCX",
        "colab_type": "text"
      },
      "source": [
        "#1. **Gender**."
      ]
    },
    {
      "cell_type": "code",
      "metadata": {
        "id": "X4SsPq_TFlQK",
        "colab_type": "code",
        "colab": {
          "base_uri": "https://localhost:8080/",
          "height": 138
        },
        "outputId": "9ca04844-7f05-4a13-80d8-de5177ace55d"
      },
      "source": [
        "# The correlation between gendar and surivial rate\n",
        "Table_1 = df_2[['Sex', 'Survived']].groupby(['Sex'], as_index=True).mean().sort_values(by='Survived', ascending=False)\n",
        "Table_1"
      ],
      "execution_count": 170,
      "outputs": [
        {
          "output_type": "execute_result",
          "data": {
            "text/html": [
              "<div>\n",
              "<style scoped>\n",
              "    .dataframe tbody tr th:only-of-type {\n",
              "        vertical-align: middle;\n",
              "    }\n",
              "\n",
              "    .dataframe tbody tr th {\n",
              "        vertical-align: top;\n",
              "    }\n",
              "\n",
              "    .dataframe thead th {\n",
              "        text-align: right;\n",
              "    }\n",
              "</style>\n",
              "<table border=\"1\" class=\"dataframe\">\n",
              "  <thead>\n",
              "    <tr style=\"text-align: right;\">\n",
              "      <th></th>\n",
              "      <th>Survived</th>\n",
              "    </tr>\n",
              "    <tr>\n",
              "      <th>Sex</th>\n",
              "      <th></th>\n",
              "    </tr>\n",
              "  </thead>\n",
              "  <tbody>\n",
              "    <tr>\n",
              "      <th>female</th>\n",
              "      <td>0.742038</td>\n",
              "    </tr>\n",
              "    <tr>\n",
              "      <th>male</th>\n",
              "      <td>0.188908</td>\n",
              "    </tr>\n",
              "  </tbody>\n",
              "</table>\n",
              "</div>"
            ],
            "text/plain": [
              "        Survived\n",
              "Sex             \n",
              "female  0.742038\n",
              "male    0.188908"
            ]
          },
          "metadata": {
            "tags": []
          },
          "execution_count": 170
        }
      ]
    },
    {
      "cell_type": "markdown",
      "metadata": {
        "id": "Mzxn0SYiGcjc",
        "colab_type": "text"
      },
      "source": [
        "Observation: \n",
        "*   # Female has much higher survival rate : 74.20%\n",
        "*   Male has much lower survival rate : 18.89%\n",
        "\n",
        "\n",
        "\n",
        "---\n",
        "\n"
      ]
    },
    {
      "cell_type": "markdown",
      "metadata": {
        "id": "xTILVLWE8OPE",
        "colab_type": "text"
      },
      "source": [
        "# 2. **Age**."
      ]
    },
    {
      "cell_type": "code",
      "metadata": {
        "id": "5-v-KoukStWm",
        "colab_type": "code",
        "colab": {}
      },
      "source": [
        "#Create a new attribute column defined by different age stages of passenger\n",
        "df_2['Age Groups'] = df_2['Age']   # New column named \n",
        "df_2 = df_2[['PassengerId', 'Survived', 'Pclass', 'Name', 'Sex', 'Age', \n",
        "             'Age Groups', 'SibSp','Parch', 'Fare', 'Embarked']]  # Set new column order\n",
        "df_2.loc[df_2['Age'] <= 14, 'Age Groups'] = 'Children (0-14)'      \n",
        "df_2.loc[(df_2['Age'] > 14) & (df_2['Age'] <= 24), 'Age Groups'] = 'Teenager (15-24)'\n",
        "df_2.loc[(df_2['Age'] > 24) & (df_2['Age'] <= 50), 'Age Groups'] = 'Adult (25-50)'\n",
        "df_2.loc[(df_2['Age'] > 50) & (df_2['Age'] <= 100), 'Age Groups'] = 'Elder (51-100)'"
      ],
      "execution_count": 0,
      "outputs": []
    },
    {
      "cell_type": "code",
      "metadata": {
        "id": "zvF6_NamkCVa",
        "colab_type": "code",
        "colab": {
          "base_uri": "https://localhost:8080/",
          "height": 104
        },
        "outputId": "7d6f6653-e01d-4454-f03c-9c31b82d6a32"
      },
      "source": [
        "df_2['Age Groups'].value_counts()\n",
        "# Age structure"
      ],
      "execution_count": 172,
      "outputs": [
        {
          "output_type": "execute_result",
          "data": {
            "text/plain": [
              "Adult (25-50)       549\n",
              "Teenager (15-24)    200\n",
              "Children (0-14)      78\n",
              "Elder (51-100)       64\n",
              "Name: Age Groups, dtype: int64"
            ]
          },
          "metadata": {
            "tags": []
          },
          "execution_count": 172
        }
      ]
    },
    {
      "cell_type": "code",
      "metadata": {
        "id": "Bb4nKRPyG2Vx",
        "colab_type": "code",
        "colab": {
          "base_uri": "https://localhost:8080/",
          "height": 198
        },
        "outputId": "7ad93b7b-a1c7-4919-b1fc-6268b31930df"
      },
      "source": [
        "# The correlation between age and surivial rate\n",
        "Table_2 = df_2[['Age Groups','Survived']].groupby(['Age Groups'],as_index=True).mean().sort_values(by='Survived', ascending=False)\n",
        "Table_2"
      ],
      "execution_count": 173,
      "outputs": [
        {
          "output_type": "execute_result",
          "data": {
            "text/html": [
              "<div>\n",
              "<style scoped>\n",
              "    .dataframe tbody tr th:only-of-type {\n",
              "        vertical-align: middle;\n",
              "    }\n",
              "\n",
              "    .dataframe tbody tr th {\n",
              "        vertical-align: top;\n",
              "    }\n",
              "\n",
              "    .dataframe thead th {\n",
              "        text-align: right;\n",
              "    }\n",
              "</style>\n",
              "<table border=\"1\" class=\"dataframe\">\n",
              "  <thead>\n",
              "    <tr style=\"text-align: right;\">\n",
              "      <th></th>\n",
              "      <th>Survived</th>\n",
              "    </tr>\n",
              "    <tr>\n",
              "      <th>Age Groups</th>\n",
              "      <th></th>\n",
              "    </tr>\n",
              "  </thead>\n",
              "  <tbody>\n",
              "    <tr>\n",
              "      <th>Children (0-14)</th>\n",
              "      <td>0.576923</td>\n",
              "    </tr>\n",
              "    <tr>\n",
              "      <th>Adult (25-50)</th>\n",
              "      <td>0.367942</td>\n",
              "    </tr>\n",
              "    <tr>\n",
              "      <th>Teenager (15-24)</th>\n",
              "      <td>0.365000</td>\n",
              "    </tr>\n",
              "    <tr>\n",
              "      <th>Elder (51-100)</th>\n",
              "      <td>0.343750</td>\n",
              "    </tr>\n",
              "  </tbody>\n",
              "</table>\n",
              "</div>"
            ],
            "text/plain": [
              "                  Survived\n",
              "Age Groups                \n",
              "Children (0-14)   0.576923\n",
              "Adult (25-50)     0.367942\n",
              "Teenager (15-24)  0.365000\n",
              "Elder (51-100)    0.343750"
            ]
          },
          "metadata": {
            "tags": []
          },
          "execution_count": 173
        }
      ]
    },
    {
      "cell_type": "markdown",
      "metadata": {
        "id": "hshVtS3QYeiz",
        "colab_type": "text"
      },
      "source": [
        "Observation\n",
        "\n",
        "\n",
        "\n",
        "# *   Children aged 0 to 14 have the highest survival rates : 57.7%\n",
        "*  Adult aged 25 to 50 have second highest survival rate : 36.8%\n",
        "*   Teengager aged 15 to 24 have second lowest survial rate : 36.5% \n",
        "*   Elder aged more than 51(include 51)years old have the lowest survival rate : 34.4%\n",
        "\n",
        "\n",
        "\n",
        "---\n",
        "\n",
        "\n",
        "\n"
      ]
    },
    {
      "cell_type": "markdown",
      "metadata": {
        "id": "wD1ljkij8ian",
        "colab_type": "text"
      },
      "source": [
        "# 3. **Passenger Class and ticket fare.**"
      ]
    },
    {
      "cell_type": "code",
      "metadata": {
        "id": "ET280q-4WMpn",
        "colab_type": "code",
        "colab": {
          "base_uri": "https://localhost:8080/",
          "height": 86
        },
        "outputId": "173e1730-85c0-4865-cbb5-d7c684179e21"
      },
      "source": [
        "#Number of passenger in each class\n",
        "df_2['Pclass'].value_counts()"
      ],
      "execution_count": 174,
      "outputs": [
        {
          "output_type": "execute_result",
          "data": {
            "text/plain": [
              "3    491\n",
              "1    216\n",
              "2    184\n",
              "Name: Pclass, dtype: int64"
            ]
          },
          "metadata": {
            "tags": []
          },
          "execution_count": 174
        }
      ]
    },
    {
      "cell_type": "markdown",
      "metadata": {
        "id": "PDj23kTIfcMh",
        "colab_type": "text"
      },
      "source": [
        "Number of passenger in Class 3 is more than total number of Class 1 and Class 2 passenger combined"
      ]
    },
    {
      "cell_type": "code",
      "metadata": {
        "id": "DnF-YKAk9ppZ",
        "colab_type": "code",
        "colab": {
          "base_uri": "https://localhost:8080/",
          "height": 168
        },
        "outputId": "cf81b2ae-6829-45bd-cd15-f8d4a8071418"
      },
      "source": [
        "# The correlation between Passenger class level and fare\n",
        "Table_3a = df_2[['Pclass','Fare']].groupby('Pclass',as_index=True).mean().sort_values(by='Fare',ascending=False)\n",
        "Table_3a"
      ],
      "execution_count": 175,
      "outputs": [
        {
          "output_type": "execute_result",
          "data": {
            "text/html": [
              "<div>\n",
              "<style scoped>\n",
              "    .dataframe tbody tr th:only-of-type {\n",
              "        vertical-align: middle;\n",
              "    }\n",
              "\n",
              "    .dataframe tbody tr th {\n",
              "        vertical-align: top;\n",
              "    }\n",
              "\n",
              "    .dataframe thead th {\n",
              "        text-align: right;\n",
              "    }\n",
              "</style>\n",
              "<table border=\"1\" class=\"dataframe\">\n",
              "  <thead>\n",
              "    <tr style=\"text-align: right;\">\n",
              "      <th></th>\n",
              "      <th>Fare</th>\n",
              "    </tr>\n",
              "    <tr>\n",
              "      <th>Pclass</th>\n",
              "      <th></th>\n",
              "    </tr>\n",
              "  </thead>\n",
              "  <tbody>\n",
              "    <tr>\n",
              "      <th>1</th>\n",
              "      <td>84.154687</td>\n",
              "    </tr>\n",
              "    <tr>\n",
              "      <th>2</th>\n",
              "      <td>20.662183</td>\n",
              "    </tr>\n",
              "    <tr>\n",
              "      <th>3</th>\n",
              "      <td>13.675550</td>\n",
              "    </tr>\n",
              "  </tbody>\n",
              "</table>\n",
              "</div>"
            ],
            "text/plain": [
              "             Fare\n",
              "Pclass           \n",
              "1       84.154687\n",
              "2       20.662183\n",
              "3       13.675550"
            ]
          },
          "metadata": {
            "tags": []
          },
          "execution_count": 175
        }
      ]
    },
    {
      "cell_type": "markdown",
      "metadata": {
        "id": "UN61P2U1-MgE",
        "colab_type": "text"
      },
      "source": [
        "Observed a Very strong positive correlation between Class and fare which make sense since better class level cost more"
      ]
    },
    {
      "cell_type": "code",
      "metadata": {
        "id": "bkFInvaEmgCn",
        "colab_type": "code",
        "colab": {
          "base_uri": "https://localhost:8080/",
          "height": 168
        },
        "outputId": "d2719fd2-b065-4914-ece1-dc81a5b34aec"
      },
      "source": [
        "# The correlation between Passenger class level and surivial rate\n",
        "Table_3b = df_2[['Pclass','Survived']].groupby('Pclass', as_index=True).mean().sort_values(by='Survived', ascending=False)\n",
        "Table_3b"
      ],
      "execution_count": 176,
      "outputs": [
        {
          "output_type": "execute_result",
          "data": {
            "text/html": [
              "<div>\n",
              "<style scoped>\n",
              "    .dataframe tbody tr th:only-of-type {\n",
              "        vertical-align: middle;\n",
              "    }\n",
              "\n",
              "    .dataframe tbody tr th {\n",
              "        vertical-align: top;\n",
              "    }\n",
              "\n",
              "    .dataframe thead th {\n",
              "        text-align: right;\n",
              "    }\n",
              "</style>\n",
              "<table border=\"1\" class=\"dataframe\">\n",
              "  <thead>\n",
              "    <tr style=\"text-align: right;\">\n",
              "      <th></th>\n",
              "      <th>Survived</th>\n",
              "    </tr>\n",
              "    <tr>\n",
              "      <th>Pclass</th>\n",
              "      <th></th>\n",
              "    </tr>\n",
              "  </thead>\n",
              "  <tbody>\n",
              "    <tr>\n",
              "      <th>1</th>\n",
              "      <td>0.629630</td>\n",
              "    </tr>\n",
              "    <tr>\n",
              "      <th>2</th>\n",
              "      <td>0.472826</td>\n",
              "    </tr>\n",
              "    <tr>\n",
              "      <th>3</th>\n",
              "      <td>0.242363</td>\n",
              "    </tr>\n",
              "  </tbody>\n",
              "</table>\n",
              "</div>"
            ],
            "text/plain": [
              "        Survived\n",
              "Pclass          \n",
              "1       0.629630\n",
              "2       0.472826\n",
              "3       0.242363"
            ]
          },
          "metadata": {
            "tags": []
          },
          "execution_count": 176
        }
      ]
    },
    {
      "cell_type": "code",
      "metadata": {
        "id": "Waz8zVli9tRk",
        "colab_type": "code",
        "colab": {
          "base_uri": "https://localhost:8080/",
          "height": 138
        },
        "outputId": "3d793534-ce57-490f-b0ad-5121a4a35a0b"
      },
      "source": [
        "# Compare average fare between survived and unsurvived passenger\n",
        "Table_3c = df_2[['Fare','Survived']].groupby('Survived', as_index=True).mean().sort_values(by='Fare', ascending=False)\n",
        "Table_3c"
      ],
      "execution_count": 188,
      "outputs": [
        {
          "output_type": "execute_result",
          "data": {
            "text/html": [
              "<div>\n",
              "<style scoped>\n",
              "    .dataframe tbody tr th:only-of-type {\n",
              "        vertical-align: middle;\n",
              "    }\n",
              "\n",
              "    .dataframe tbody tr th {\n",
              "        vertical-align: top;\n",
              "    }\n",
              "\n",
              "    .dataframe thead th {\n",
              "        text-align: right;\n",
              "    }\n",
              "</style>\n",
              "<table border=\"1\" class=\"dataframe\">\n",
              "  <thead>\n",
              "    <tr style=\"text-align: right;\">\n",
              "      <th></th>\n",
              "      <th>Fare</th>\n",
              "    </tr>\n",
              "    <tr>\n",
              "      <th>Survived</th>\n",
              "      <th></th>\n",
              "    </tr>\n",
              "  </thead>\n",
              "  <tbody>\n",
              "    <tr>\n",
              "      <th>1</th>\n",
              "      <td>48.395408</td>\n",
              "    </tr>\n",
              "    <tr>\n",
              "      <th>0</th>\n",
              "      <td>22.117887</td>\n",
              "    </tr>\n",
              "  </tbody>\n",
              "</table>\n",
              "</div>"
            ],
            "text/plain": [
              "               Fare\n",
              "Survived           \n",
              "1         48.395408\n",
              "0         22.117887"
            ]
          },
          "metadata": {
            "tags": []
          },
          "execution_count": 188
        }
      ]
    },
    {
      "cell_type": "markdown",
      "metadata": {
        "id": "JqMjWMW76tGi",
        "colab_type": "text"
      },
      "source": [
        "Observation: \n",
        "# Higher Class level (or Fare), higher survival rate.\n",
        "\n",
        "\n",
        "---\n",
        "\n"
      ]
    },
    {
      "cell_type": "markdown",
      "metadata": {
        "id": "qVMHkbca8pTo",
        "colab_type": "text"
      },
      "source": [
        "# 4. **Number Sibling and Spouse on board.**"
      ]
    },
    {
      "cell_type": "code",
      "metadata": {
        "id": "DNd94u0aomee",
        "colab_type": "code",
        "colab": {
          "base_uri": "https://localhost:8080/",
          "height": 288
        },
        "outputId": "ebb19d73-caa9-4591-944d-71d98cf4e66c"
      },
      "source": [
        "# The correlation between number of Siblings or spouse and surivial rate\n",
        "Table_4 = df_2[['SibSp','Survived']].groupby('SibSp', as_index=True).mean().sort_values(by='Survived',ascending=False)\n",
        "Table_4"
      ],
      "execution_count": 178,
      "outputs": [
        {
          "output_type": "execute_result",
          "data": {
            "text/html": [
              "<div>\n",
              "<style scoped>\n",
              "    .dataframe tbody tr th:only-of-type {\n",
              "        vertical-align: middle;\n",
              "    }\n",
              "\n",
              "    .dataframe tbody tr th {\n",
              "        vertical-align: top;\n",
              "    }\n",
              "\n",
              "    .dataframe thead th {\n",
              "        text-align: right;\n",
              "    }\n",
              "</style>\n",
              "<table border=\"1\" class=\"dataframe\">\n",
              "  <thead>\n",
              "    <tr style=\"text-align: right;\">\n",
              "      <th></th>\n",
              "      <th>Survived</th>\n",
              "    </tr>\n",
              "    <tr>\n",
              "      <th>SibSp</th>\n",
              "      <th></th>\n",
              "    </tr>\n",
              "  </thead>\n",
              "  <tbody>\n",
              "    <tr>\n",
              "      <th>1</th>\n",
              "      <td>0.535885</td>\n",
              "    </tr>\n",
              "    <tr>\n",
              "      <th>2</th>\n",
              "      <td>0.464286</td>\n",
              "    </tr>\n",
              "    <tr>\n",
              "      <th>0</th>\n",
              "      <td>0.345395</td>\n",
              "    </tr>\n",
              "    <tr>\n",
              "      <th>3</th>\n",
              "      <td>0.250000</td>\n",
              "    </tr>\n",
              "    <tr>\n",
              "      <th>4</th>\n",
              "      <td>0.166667</td>\n",
              "    </tr>\n",
              "    <tr>\n",
              "      <th>5</th>\n",
              "      <td>0.000000</td>\n",
              "    </tr>\n",
              "    <tr>\n",
              "      <th>8</th>\n",
              "      <td>0.000000</td>\n",
              "    </tr>\n",
              "  </tbody>\n",
              "</table>\n",
              "</div>"
            ],
            "text/plain": [
              "       Survived\n",
              "SibSp          \n",
              "1      0.535885\n",
              "2      0.464286\n",
              "0      0.345395\n",
              "3      0.250000\n",
              "4      0.166667\n",
              "5      0.000000\n",
              "8      0.000000"
            ]
          },
          "metadata": {
            "tags": []
          },
          "execution_count": 178
        }
      ]
    },
    {
      "cell_type": "markdown",
      "metadata": {
        "id": "B4U2XUL276P6",
        "colab_type": "text"
      },
      "source": [
        "\n",
        "# * No strong correlation observed\n",
        "\n",
        "\n",
        "---\n",
        "\n"
      ]
    },
    {
      "cell_type": "markdown",
      "metadata": {
        "id": "JZPSBYIn_6YM",
        "colab_type": "text"
      },
      "source": [
        "# 5. **Number of Parents and children on board.**"
      ]
    },
    {
      "cell_type": "code",
      "metadata": {
        "id": "qlh4bwvx7Bxk",
        "colab_type": "code",
        "colab": {
          "base_uri": "https://localhost:8080/",
          "height": 288
        },
        "outputId": "6f4b54bb-8357-4814-d06b-b5e9e7154ccd"
      },
      "source": [
        "#The correlation between Parch number and surivial rate\n",
        "Table_5 = df_2[['Parch','Survived']].groupby('Parch',as_index=True).mean().sort_values(by='Survived',ascending=False)\n",
        "Table_5"
      ],
      "execution_count": 179,
      "outputs": [
        {
          "output_type": "execute_result",
          "data": {
            "text/html": [
              "<div>\n",
              "<style scoped>\n",
              "    .dataframe tbody tr th:only-of-type {\n",
              "        vertical-align: middle;\n",
              "    }\n",
              "\n",
              "    .dataframe tbody tr th {\n",
              "        vertical-align: top;\n",
              "    }\n",
              "\n",
              "    .dataframe thead th {\n",
              "        text-align: right;\n",
              "    }\n",
              "</style>\n",
              "<table border=\"1\" class=\"dataframe\">\n",
              "  <thead>\n",
              "    <tr style=\"text-align: right;\">\n",
              "      <th></th>\n",
              "      <th>Survived</th>\n",
              "    </tr>\n",
              "    <tr>\n",
              "      <th>Parch</th>\n",
              "      <th></th>\n",
              "    </tr>\n",
              "  </thead>\n",
              "  <tbody>\n",
              "    <tr>\n",
              "      <th>3</th>\n",
              "      <td>0.600000</td>\n",
              "    </tr>\n",
              "    <tr>\n",
              "      <th>1</th>\n",
              "      <td>0.550847</td>\n",
              "    </tr>\n",
              "    <tr>\n",
              "      <th>2</th>\n",
              "      <td>0.500000</td>\n",
              "    </tr>\n",
              "    <tr>\n",
              "      <th>0</th>\n",
              "      <td>0.343658</td>\n",
              "    </tr>\n",
              "    <tr>\n",
              "      <th>5</th>\n",
              "      <td>0.200000</td>\n",
              "    </tr>\n",
              "    <tr>\n",
              "      <th>4</th>\n",
              "      <td>0.000000</td>\n",
              "    </tr>\n",
              "    <tr>\n",
              "      <th>6</th>\n",
              "      <td>0.000000</td>\n",
              "    </tr>\n",
              "  </tbody>\n",
              "</table>\n",
              "</div>"
            ],
            "text/plain": [
              "       Survived\n",
              "Parch          \n",
              "3      0.600000\n",
              "1      0.550847\n",
              "2      0.500000\n",
              "0      0.343658\n",
              "5      0.200000\n",
              "4      0.000000\n",
              "6      0.000000"
            ]
          },
          "metadata": {
            "tags": []
          },
          "execution_count": 179
        }
      ]
    },
    {
      "cell_type": "markdown",
      "metadata": {
        "id": "OPFT90oKGplh",
        "colab_type": "text"
      },
      "source": [
        "\n",
        "* No strong correlation observed\n",
        "\n",
        "\n",
        "---"
      ]
    },
    {
      "cell_type": "markdown",
      "metadata": {
        "id": "-_88lZ1QqTGF",
        "colab_type": "text"
      },
      "source": [
        "# 6. Port of Embarkation vs surivial rate"
      ]
    },
    {
      "cell_type": "code",
      "metadata": {
        "id": "GjjenRH6qBk_",
        "colab_type": "code",
        "colab": {
          "base_uri": "https://localhost:8080/",
          "height": 168
        },
        "outputId": "39727cb0-d970-44e7-e2ec-6c49bc3d6a65"
      },
      "source": [
        "#The correlation between Port of Embarkation and surivial rate\n",
        "Table_6 = df_2[['Embarked','Survived']].groupby('Embarked',as_index=True).mean().sort_values(by='Survived',ascending=False)\n",
        "Table_6"
      ],
      "execution_count": 190,
      "outputs": [
        {
          "output_type": "execute_result",
          "data": {
            "text/html": [
              "<div>\n",
              "<style scoped>\n",
              "    .dataframe tbody tr th:only-of-type {\n",
              "        vertical-align: middle;\n",
              "    }\n",
              "\n",
              "    .dataframe tbody tr th {\n",
              "        vertical-align: top;\n",
              "    }\n",
              "\n",
              "    .dataframe thead th {\n",
              "        text-align: right;\n",
              "    }\n",
              "</style>\n",
              "<table border=\"1\" class=\"dataframe\">\n",
              "  <thead>\n",
              "    <tr style=\"text-align: right;\">\n",
              "      <th></th>\n",
              "      <th>Survived</th>\n",
              "    </tr>\n",
              "    <tr>\n",
              "      <th>Embarked</th>\n",
              "      <th></th>\n",
              "    </tr>\n",
              "  </thead>\n",
              "  <tbody>\n",
              "    <tr>\n",
              "      <th>C</th>\n",
              "      <td>0.553571</td>\n",
              "    </tr>\n",
              "    <tr>\n",
              "      <th>Q</th>\n",
              "      <td>0.389610</td>\n",
              "    </tr>\n",
              "    <tr>\n",
              "      <th>S</th>\n",
              "      <td>0.339009</td>\n",
              "    </tr>\n",
              "  </tbody>\n",
              "</table>\n",
              "</div>"
            ],
            "text/plain": [
              "          Survived\n",
              "Embarked          \n",
              "C         0.553571\n",
              "Q         0.389610\n",
              "S         0.339009"
            ]
          },
          "metadata": {
            "tags": []
          },
          "execution_count": 190
        }
      ]
    },
    {
      "cell_type": "markdown",
      "metadata": {
        "id": "ASaS7ElESbOl",
        "colab_type": "text"
      },
      "source": [
        "# Analyzing survived rate considering **TWO OR MORE** factors "
      ]
    },
    {
      "cell_type": "markdown",
      "metadata": {
        "id": "8VYF7-LYStY2",
        "colab_type": "text"
      },
      "source": [
        "# 7. Age and Gender\n",
        "\n"
      ]
    },
    {
      "cell_type": "code",
      "metadata": {
        "id": "oY4u2oy6ROM1",
        "colab_type": "code",
        "colab": {
          "base_uri": "https://localhost:8080/",
          "height": 318
        },
        "outputId": "43c216ba-94a0-4d6d-edfa-01bb29dc02b6"
      },
      "source": [
        "#The surivial rate related to Gener and Age\n",
        "Table_7 = df_2[['Age Groups','Sex','Survived']].groupby(['Sex','Age Groups'],\n",
        "                                                        as_index=True).mean().sort_values(by='Survived',ascending=False)\n",
        "Table_7"
      ],
      "execution_count": 191,
      "outputs": [
        {
          "output_type": "execute_result",
          "data": {
            "text/html": [
              "<div>\n",
              "<style scoped>\n",
              "    .dataframe tbody tr th:only-of-type {\n",
              "        vertical-align: middle;\n",
              "    }\n",
              "\n",
              "    .dataframe tbody tr th {\n",
              "        vertical-align: top;\n",
              "    }\n",
              "\n",
              "    .dataframe thead th {\n",
              "        text-align: right;\n",
              "    }\n",
              "</style>\n",
              "<table border=\"1\" class=\"dataframe\">\n",
              "  <thead>\n",
              "    <tr style=\"text-align: right;\">\n",
              "      <th></th>\n",
              "      <th></th>\n",
              "      <th>Survived</th>\n",
              "    </tr>\n",
              "    <tr>\n",
              "      <th>Sex</th>\n",
              "      <th>Age Groups</th>\n",
              "      <th></th>\n",
              "    </tr>\n",
              "  </thead>\n",
              "  <tbody>\n",
              "    <tr>\n",
              "      <th rowspan=\"4\" valign=\"top\">female</th>\n",
              "      <th>Elder (51-100)</th>\n",
              "      <td>0.941176</td>\n",
              "    </tr>\n",
              "    <tr>\n",
              "      <th>Teenager (15-24)</th>\n",
              "      <td>0.782051</td>\n",
              "    </tr>\n",
              "    <tr>\n",
              "      <th>Adult (25-50)</th>\n",
              "      <td>0.733333</td>\n",
              "    </tr>\n",
              "    <tr>\n",
              "      <th>Children (0-14)</th>\n",
              "      <td>0.615385</td>\n",
              "    </tr>\n",
              "    <tr>\n",
              "      <th rowspan=\"4\" valign=\"top\">male</th>\n",
              "      <th>Children (0-14)</th>\n",
              "      <td>0.538462</td>\n",
              "    </tr>\n",
              "    <tr>\n",
              "      <th>Adult (25-50)</th>\n",
              "      <td>0.189702</td>\n",
              "    </tr>\n",
              "    <tr>\n",
              "      <th>Elder (51-100)</th>\n",
              "      <td>0.127660</td>\n",
              "    </tr>\n",
              "    <tr>\n",
              "      <th>Teenager (15-24)</th>\n",
              "      <td>0.098361</td>\n",
              "    </tr>\n",
              "  </tbody>\n",
              "</table>\n",
              "</div>"
            ],
            "text/plain": [
              "                         Survived\n",
              "Sex    Age Groups                \n",
              "female Elder (51-100)    0.941176\n",
              "       Teenager (15-24)  0.782051\n",
              "       Adult (25-50)     0.733333\n",
              "       Children (0-14)   0.615385\n",
              "male   Children (0-14)   0.538462\n",
              "       Adult (25-50)     0.189702\n",
              "       Elder (51-100)    0.127660\n",
              "       Teenager (15-24)  0.098361"
            ]
          },
          "metadata": {
            "tags": []
          },
          "execution_count": 191
        }
      ]
    },
    {
      "cell_type": "markdown",
      "metadata": {
        "id": "SU6XeAozZ6sp",
        "colab_type": "text"
      },
      "source": [
        "Female passengers had an **absolutely** high survival rate\n",
        "Child passengers have a **relatively** high survival rate"
      ]
    },
    {
      "cell_type": "markdown",
      "metadata": {
        "id": "55NkoQSJSwv-",
        "colab_type": "text"
      },
      "source": [
        "\n",
        "\n",
        "---\n",
        "\n",
        "\n",
        "# 8.  Gender and P-Class"
      ]
    },
    {
      "cell_type": "code",
      "metadata": {
        "id": "RvU0e6U7S1QT",
        "colab_type": "code",
        "colab": {
          "base_uri": "https://localhost:8080/",
          "height": 258
        },
        "outputId": "7b644f3a-d479-4c13-c8f5-17cf46610a87"
      },
      "source": [
        "#The surivial rate related to Gener and passenger class level\n",
        "Table_8 = df_2[['Sex','Pclass','Survived']].groupby(['Sex','Pclass'],\n",
        "                                          as_index=True).mean().sort_values(by='Survived',ascending=False)\n",
        "Table_8"
      ],
      "execution_count": 192,
      "outputs": [
        {
          "output_type": "execute_result",
          "data": {
            "text/html": [
              "<div>\n",
              "<style scoped>\n",
              "    .dataframe tbody tr th:only-of-type {\n",
              "        vertical-align: middle;\n",
              "    }\n",
              "\n",
              "    .dataframe tbody tr th {\n",
              "        vertical-align: top;\n",
              "    }\n",
              "\n",
              "    .dataframe thead th {\n",
              "        text-align: right;\n",
              "    }\n",
              "</style>\n",
              "<table border=\"1\" class=\"dataframe\">\n",
              "  <thead>\n",
              "    <tr style=\"text-align: right;\">\n",
              "      <th></th>\n",
              "      <th></th>\n",
              "      <th>Survived</th>\n",
              "    </tr>\n",
              "    <tr>\n",
              "      <th>Sex</th>\n",
              "      <th>Pclass</th>\n",
              "      <th></th>\n",
              "    </tr>\n",
              "  </thead>\n",
              "  <tbody>\n",
              "    <tr>\n",
              "      <th rowspan=\"3\" valign=\"top\">female</th>\n",
              "      <th>1</th>\n",
              "      <td>0.968085</td>\n",
              "    </tr>\n",
              "    <tr>\n",
              "      <th>2</th>\n",
              "      <td>0.921053</td>\n",
              "    </tr>\n",
              "    <tr>\n",
              "      <th>3</th>\n",
              "      <td>0.500000</td>\n",
              "    </tr>\n",
              "    <tr>\n",
              "      <th rowspan=\"3\" valign=\"top\">male</th>\n",
              "      <th>1</th>\n",
              "      <td>0.368852</td>\n",
              "    </tr>\n",
              "    <tr>\n",
              "      <th>2</th>\n",
              "      <td>0.157407</td>\n",
              "    </tr>\n",
              "    <tr>\n",
              "      <th>3</th>\n",
              "      <td>0.135447</td>\n",
              "    </tr>\n",
              "  </tbody>\n",
              "</table>\n",
              "</div>"
            ],
            "text/plain": [
              "               Survived\n",
              "Sex    Pclass          \n",
              "female 1       0.968085\n",
              "       2       0.921053\n",
              "       3       0.500000\n",
              "male   1       0.368852\n",
              "       2       0.157407\n",
              "       3       0.135447"
            ]
          },
          "metadata": {
            "tags": []
          },
          "execution_count": 192
        }
      ]
    },
    {
      "cell_type": "markdown",
      "metadata": {
        "id": "31-Zlj7PakpV",
        "colab_type": "text"
      },
      "source": [
        "Female passengers had an **absolutely** high survival rate\n",
        "Passengers in Higher class have a **relatively** higher survival rate"
      ]
    },
    {
      "cell_type": "markdown",
      "metadata": {
        "id": "bLly4gcwU8lE",
        "colab_type": "text"
      },
      "source": [
        "\n",
        "\n",
        "---\n",
        "\n",
        "\n",
        "#9.  Passenger class and Age groups"
      ]
    },
    {
      "cell_type": "code",
      "metadata": {
        "id": "pGC4OIE_l3nN",
        "colab_type": "code",
        "colab": {
          "base_uri": "https://localhost:8080/",
          "height": 408
        },
        "outputId": "c74053d2-1061-4d15-ccd3-8eb04174b1c9"
      },
      "source": [
        "#The surivial rate related to Age and Passenger class level\n",
        "Table_9a = df_2[['Age Groups','Pclass','Survived']].groupby(['Age Groups','Pclass'],\n",
        "                                                            as_index=False).mean().sort_values(by='Survived',ascending=False)\n",
        "Table_9a"
      ],
      "execution_count": 193,
      "outputs": [
        {
          "output_type": "execute_result",
          "data": {
            "text/html": [
              "<div>\n",
              "<style scoped>\n",
              "    .dataframe tbody tr th:only-of-type {\n",
              "        vertical-align: middle;\n",
              "    }\n",
              "\n",
              "    .dataframe tbody tr th {\n",
              "        vertical-align: top;\n",
              "    }\n",
              "\n",
              "    .dataframe thead th {\n",
              "        text-align: right;\n",
              "    }\n",
              "</style>\n",
              "<table border=\"1\" class=\"dataframe\">\n",
              "  <thead>\n",
              "    <tr style=\"text-align: right;\">\n",
              "      <th></th>\n",
              "      <th>Age Groups</th>\n",
              "      <th>Pclass</th>\n",
              "      <th>Survived</th>\n",
              "    </tr>\n",
              "  </thead>\n",
              "  <tbody>\n",
              "    <tr>\n",
              "      <th>4</th>\n",
              "      <td>Children (0-14)</td>\n",
              "      <td>2</td>\n",
              "      <td>1.000000</td>\n",
              "    </tr>\n",
              "    <tr>\n",
              "      <th>3</th>\n",
              "      <td>Children (0-14)</td>\n",
              "      <td>1</td>\n",
              "      <td>0.800000</td>\n",
              "    </tr>\n",
              "    <tr>\n",
              "      <th>9</th>\n",
              "      <td>Teenager (15-24)</td>\n",
              "      <td>1</td>\n",
              "      <td>0.794118</td>\n",
              "    </tr>\n",
              "    <tr>\n",
              "      <th>0</th>\n",
              "      <td>Adult (25-50)</td>\n",
              "      <td>1</td>\n",
              "      <td>0.630435</td>\n",
              "    </tr>\n",
              "    <tr>\n",
              "      <th>6</th>\n",
              "      <td>Elder (51-100)</td>\n",
              "      <td>1</td>\n",
              "      <td>0.461538</td>\n",
              "    </tr>\n",
              "    <tr>\n",
              "      <th>10</th>\n",
              "      <td>Teenager (15-24)</td>\n",
              "      <td>2</td>\n",
              "      <td>0.435897</td>\n",
              "    </tr>\n",
              "    <tr>\n",
              "      <th>1</th>\n",
              "      <td>Adult (25-50)</td>\n",
              "      <td>2</td>\n",
              "      <td>0.432432</td>\n",
              "    </tr>\n",
              "    <tr>\n",
              "      <th>5</th>\n",
              "      <td>Children (0-14)</td>\n",
              "      <td>3</td>\n",
              "      <td>0.407407</td>\n",
              "    </tr>\n",
              "    <tr>\n",
              "      <th>11</th>\n",
              "      <td>Teenager (15-24)</td>\n",
              "      <td>3</td>\n",
              "      <td>0.228346</td>\n",
              "    </tr>\n",
              "    <tr>\n",
              "      <th>2</th>\n",
              "      <td>Adult (25-50)</td>\n",
              "      <td>3</td>\n",
              "      <td>0.223333</td>\n",
              "    </tr>\n",
              "    <tr>\n",
              "      <th>7</th>\n",
              "      <td>Elder (51-100)</td>\n",
              "      <td>2</td>\n",
              "      <td>0.200000</td>\n",
              "    </tr>\n",
              "    <tr>\n",
              "      <th>8</th>\n",
              "      <td>Elder (51-100)</td>\n",
              "      <td>3</td>\n",
              "      <td>0.100000</td>\n",
              "    </tr>\n",
              "  </tbody>\n",
              "</table>\n",
              "</div>"
            ],
            "text/plain": [
              "          Age Groups  Pclass  Survived\n",
              "4    Children (0-14)       2  1.000000\n",
              "3    Children (0-14)       1  0.800000\n",
              "9   Teenager (15-24)       1  0.794118\n",
              "0      Adult (25-50)       1  0.630435\n",
              "6     Elder (51-100)       1  0.461538\n",
              "10  Teenager (15-24)       2  0.435897\n",
              "1      Adult (25-50)       2  0.432432\n",
              "5    Children (0-14)       3  0.407407\n",
              "11  Teenager (15-24)       3  0.228346\n",
              "2      Adult (25-50)       3  0.223333\n",
              "7     Elder (51-100)       2  0.200000\n",
              "8     Elder (51-100)       3  0.100000"
            ]
          },
          "metadata": {
            "tags": []
          },
          "execution_count": 193
        }
      ]
    },
    {
      "cell_type": "markdown",
      "metadata": {
        "id": "r4WZjGiml7QF",
        "colab_type": "text"
      },
      "source": [
        "Noticed that some data were found abnormal, like 'Children in class 2 have 100% survival rate'."
      ]
    },
    {
      "cell_type": "code",
      "metadata": {
        "id": "MJ7QajAm_Mvl",
        "colab_type": "code",
        "colab": {
          "base_uri": "https://localhost:8080/",
          "height": 466
        },
        "outputId": "b5944f69-92a4-4d60-fa71-68d9e0d88b48"
      },
      "source": [
        "# Check the sample size of each dataset to make sure the survival rate is reasonable.\n",
        "Table_9b = df_2[['Age Groups','Pclass','Survived']].groupby(['Age Groups','Pclass'],\n",
        "                                                             as_index=False).sum().sort_values(by='Survived',ascending=False)\n",
        "print(Table_9b)\n",
        "Table_9c = df_2[['Age Groups','Pclass','Survived']].groupby(['Age Groups','Pclass'],\n",
        "                                                        as_index=False).count().sort_values(by='Survived',ascending=False)\n",
        "print(Table_9c)"
      ],
      "execution_count": 194,
      "outputs": [
        {
          "output_type": "stream",
          "text": [
            "          Age Groups  Pclass  Survived\n",
            "0      Adult (25-50)       1        87\n",
            "2      Adult (25-50)       3        67\n",
            "1      Adult (25-50)       2        48\n",
            "11  Teenager (15-24)       3        29\n",
            "9   Teenager (15-24)       1        27\n",
            "5    Children (0-14)       3        22\n",
            "4    Children (0-14)       2        19\n",
            "6     Elder (51-100)       1        18\n",
            "10  Teenager (15-24)       2        17\n",
            "3    Children (0-14)       1         4\n",
            "7     Elder (51-100)       2         3\n",
            "8     Elder (51-100)       3         1\n",
            "          Age Groups  Pclass  Survived\n",
            "2      Adult (25-50)       3       300\n",
            "0      Adult (25-50)       1       138\n",
            "11  Teenager (15-24)       3       127\n",
            "1      Adult (25-50)       2       111\n",
            "5    Children (0-14)       3        54\n",
            "6     Elder (51-100)       1        39\n",
            "10  Teenager (15-24)       2        39\n",
            "9   Teenager (15-24)       1        34\n",
            "4    Children (0-14)       2        19\n",
            "7     Elder (51-100)       2        15\n",
            "8     Elder (51-100)       3        10\n",
            "3    Children (0-14)       1         5\n"
          ],
          "name": "stdout"
        }
      ]
    },
    {
      "cell_type": "markdown",
      "metadata": {
        "id": "JQoLQJKFU6tX",
        "colab_type": "text"
      },
      "source": [
        "The sample size of few groups are too small, for example: (Elder in Class 2 and 3; Children in Class 1 and 2) are less than 30 people which mean the sample size is too small to give reliabe satistic analysis.\n",
        "Therefore, the rationality of Table_8a is doubtful."
      ]
    },
    {
      "cell_type": "markdown",
      "metadata": {
        "id": "rsJ7lRvlJnPz",
        "colab_type": "text"
      },
      "source": [
        "\n",
        "\n",
        "---\n",
        "\n",
        "\n",
        "# 10. Combine 3 main factors 'Gender' , 'Class' , 'Pclass', into a table sort by number of survivors."
      ]
    },
    {
      "cell_type": "code",
      "metadata": {
        "colab_type": "code",
        "outputId": "dfcdb5a4-eaa9-423b-ed8c-c109879f84f9",
        "id": "73iW-uilqVb7",
        "colab": {
          "base_uri": "https://localhost:8080/",
          "height": 768
        }
      },
      "source": [
        "#The surivial rate related to Sex, Age and Passenger class level\n",
        "Table_10 = df_2[['Age Groups','Sex','Pclass','Survived']].groupby(['Sex','Pclass','Age Groups'],\n",
        "                          as_index=False).sum().sort_values(by='Survived', ascending=False)\n",
        "                          # Total survivors distributed in each groups\n",
        "Table_10"
      ],
      "execution_count": 195,
      "outputs": [
        {
          "output_type": "execute_result",
          "data": {
            "text/html": [
              "<div>\n",
              "<style scoped>\n",
              "    .dataframe tbody tr th:only-of-type {\n",
              "        vertical-align: middle;\n",
              "    }\n",
              "\n",
              "    .dataframe tbody tr th {\n",
              "        vertical-align: top;\n",
              "    }\n",
              "\n",
              "    .dataframe thead th {\n",
              "        text-align: right;\n",
              "    }\n",
              "</style>\n",
              "<table border=\"1\" class=\"dataframe\">\n",
              "  <thead>\n",
              "    <tr style=\"text-align: right;\">\n",
              "      <th></th>\n",
              "      <th>Sex</th>\n",
              "      <th>Pclass</th>\n",
              "      <th>Age Groups</th>\n",
              "      <th>Survived</th>\n",
              "    </tr>\n",
              "  </thead>\n",
              "  <tbody>\n",
              "    <tr>\n",
              "      <th>0</th>\n",
              "      <td>female</td>\n",
              "      <td>1</td>\n",
              "      <td>Adult (25-50)</td>\n",
              "      <td>52</td>\n",
              "    </tr>\n",
              "    <tr>\n",
              "      <th>4</th>\n",
              "      <td>female</td>\n",
              "      <td>2</td>\n",
              "      <td>Adult (25-50)</td>\n",
              "      <td>42</td>\n",
              "    </tr>\n",
              "    <tr>\n",
              "      <th>8</th>\n",
              "      <td>female</td>\n",
              "      <td>3</td>\n",
              "      <td>Adult (25-50)</td>\n",
              "      <td>38</td>\n",
              "    </tr>\n",
              "    <tr>\n",
              "      <th>12</th>\n",
              "      <td>male</td>\n",
              "      <td>1</td>\n",
              "      <td>Adult (25-50)</td>\n",
              "      <td>35</td>\n",
              "    </tr>\n",
              "    <tr>\n",
              "      <th>20</th>\n",
              "      <td>male</td>\n",
              "      <td>3</td>\n",
              "      <td>Adult (25-50)</td>\n",
              "      <td>29</td>\n",
              "    </tr>\n",
              "    <tr>\n",
              "      <th>3</th>\n",
              "      <td>female</td>\n",
              "      <td>1</td>\n",
              "      <td>Teenager (15-24)</td>\n",
              "      <td>25</td>\n",
              "    </tr>\n",
              "    <tr>\n",
              "      <th>11</th>\n",
              "      <td>female</td>\n",
              "      <td>3</td>\n",
              "      <td>Teenager (15-24)</td>\n",
              "      <td>20</td>\n",
              "    </tr>\n",
              "    <tr>\n",
              "      <th>7</th>\n",
              "      <td>female</td>\n",
              "      <td>2</td>\n",
              "      <td>Teenager (15-24)</td>\n",
              "      <td>16</td>\n",
              "    </tr>\n",
              "    <tr>\n",
              "      <th>2</th>\n",
              "      <td>female</td>\n",
              "      <td>1</td>\n",
              "      <td>Elder (51-100)</td>\n",
              "      <td>13</td>\n",
              "    </tr>\n",
              "    <tr>\n",
              "      <th>9</th>\n",
              "      <td>female</td>\n",
              "      <td>3</td>\n",
              "      <td>Children (0-14)</td>\n",
              "      <td>13</td>\n",
              "    </tr>\n",
              "    <tr>\n",
              "      <th>5</th>\n",
              "      <td>female</td>\n",
              "      <td>2</td>\n",
              "      <td>Children (0-14)</td>\n",
              "      <td>10</td>\n",
              "    </tr>\n",
              "    <tr>\n",
              "      <th>21</th>\n",
              "      <td>male</td>\n",
              "      <td>3</td>\n",
              "      <td>Children (0-14)</td>\n",
              "      <td>9</td>\n",
              "    </tr>\n",
              "    <tr>\n",
              "      <th>17</th>\n",
              "      <td>male</td>\n",
              "      <td>2</td>\n",
              "      <td>Children (0-14)</td>\n",
              "      <td>9</td>\n",
              "    </tr>\n",
              "    <tr>\n",
              "      <th>23</th>\n",
              "      <td>male</td>\n",
              "      <td>3</td>\n",
              "      <td>Teenager (15-24)</td>\n",
              "      <td>9</td>\n",
              "    </tr>\n",
              "    <tr>\n",
              "      <th>16</th>\n",
              "      <td>male</td>\n",
              "      <td>2</td>\n",
              "      <td>Adult (25-50)</td>\n",
              "      <td>6</td>\n",
              "    </tr>\n",
              "    <tr>\n",
              "      <th>14</th>\n",
              "      <td>male</td>\n",
              "      <td>1</td>\n",
              "      <td>Elder (51-100)</td>\n",
              "      <td>5</td>\n",
              "    </tr>\n",
              "    <tr>\n",
              "      <th>13</th>\n",
              "      <td>male</td>\n",
              "      <td>1</td>\n",
              "      <td>Children (0-14)</td>\n",
              "      <td>3</td>\n",
              "    </tr>\n",
              "    <tr>\n",
              "      <th>15</th>\n",
              "      <td>male</td>\n",
              "      <td>1</td>\n",
              "      <td>Teenager (15-24)</td>\n",
              "      <td>2</td>\n",
              "    </tr>\n",
              "    <tr>\n",
              "      <th>6</th>\n",
              "      <td>female</td>\n",
              "      <td>2</td>\n",
              "      <td>Elder (51-100)</td>\n",
              "      <td>2</td>\n",
              "    </tr>\n",
              "    <tr>\n",
              "      <th>1</th>\n",
              "      <td>female</td>\n",
              "      <td>1</td>\n",
              "      <td>Children (0-14)</td>\n",
              "      <td>1</td>\n",
              "    </tr>\n",
              "    <tr>\n",
              "      <th>18</th>\n",
              "      <td>male</td>\n",
              "      <td>2</td>\n",
              "      <td>Elder (51-100)</td>\n",
              "      <td>1</td>\n",
              "    </tr>\n",
              "    <tr>\n",
              "      <th>19</th>\n",
              "      <td>male</td>\n",
              "      <td>2</td>\n",
              "      <td>Teenager (15-24)</td>\n",
              "      <td>1</td>\n",
              "    </tr>\n",
              "    <tr>\n",
              "      <th>10</th>\n",
              "      <td>female</td>\n",
              "      <td>3</td>\n",
              "      <td>Elder (51-100)</td>\n",
              "      <td>1</td>\n",
              "    </tr>\n",
              "    <tr>\n",
              "      <th>22</th>\n",
              "      <td>male</td>\n",
              "      <td>3</td>\n",
              "      <td>Elder (51-100)</td>\n",
              "      <td>0</td>\n",
              "    </tr>\n",
              "  </tbody>\n",
              "</table>\n",
              "</div>"
            ],
            "text/plain": [
              "       Sex  Pclass        Age Groups  Survived\n",
              "0   female       1     Adult (25-50)        52\n",
              "4   female       2     Adult (25-50)        42\n",
              "8   female       3     Adult (25-50)        38\n",
              "12    male       1     Adult (25-50)        35\n",
              "20    male       3     Adult (25-50)        29\n",
              "3   female       1  Teenager (15-24)        25\n",
              "11  female       3  Teenager (15-24)        20\n",
              "7   female       2  Teenager (15-24)        16\n",
              "2   female       1    Elder (51-100)        13\n",
              "9   female       3   Children (0-14)        13\n",
              "5   female       2   Children (0-14)        10\n",
              "21    male       3   Children (0-14)         9\n",
              "17    male       2   Children (0-14)         9\n",
              "23    male       3  Teenager (15-24)         9\n",
              "16    male       2     Adult (25-50)         6\n",
              "14    male       1    Elder (51-100)         5\n",
              "13    male       1   Children (0-14)         3\n",
              "15    male       1  Teenager (15-24)         2\n",
              "6   female       2    Elder (51-100)         2\n",
              "1   female       1   Children (0-14)         1\n",
              "18    male       2    Elder (51-100)         1\n",
              "19    male       2  Teenager (15-24)         1\n",
              "10  female       3    Elder (51-100)         1\n",
              "22    male       3    Elder (51-100)         0"
            ]
          },
          "metadata": {
            "tags": []
          },
          "execution_count": 195
        }
      ]
    },
    {
      "cell_type": "markdown",
      "metadata": {
        "id": "lPF-eATea_7P",
        "colab_type": "text"
      },
      "source": [
        "The table has same problem, small sample size can not represent true survival rate in each group set"
      ]
    },
    {
      "cell_type": "code",
      "metadata": {
        "id": "RCGqzNPvzw-7",
        "colab_type": "code",
        "colab": {}
      },
      "source": [
        "df_2.to_csv('Titanic.csv',index=False)"
      ],
      "execution_count": 0,
      "outputs": []
    },
    {
      "cell_type": "markdown",
      "metadata": {
        "id": "ZgDCL8AkbovG",
        "colab_type": "text"
      },
      "source": [
        "\n",
        "\n",
        "---\n",
        "## Assignment Questions\n",
        "\n"
      ]
    },
    {
      "cell_type": "markdown",
      "metadata": {
        "id": "mgvpujJEbiP4",
        "colab_type": "text"
      },
      "source": [
        "QUESTION\t1:\tWhat\tcategories\tof\tpassengers\twere\tmost\tlikely\tto\tsurvive\tthe\tTitanic\tdisaster? à 4\tpoints\t\n",
        "(the\tmark\tincludes\t2\tpoints\tfor\tthe\tanswer\tto\tthe\tmain\tquestions\tand\t2\tpoints\tfor\tthe\tdetailed\n",
        "explanation of the\tlogic\tof\tthe\tanalysis)\t"
      ]
    },
    {
      "cell_type": "markdown",
      "metadata": {
        "id": "du40h7PPbt5t",
        "colab_type": "text"
      },
      "source": [
        "A: Female adult (age between 25 and 50) in Class '1' were most likely to survive.\n",
        "From results in ***Table_1, Table_2, and Table_3b***, by looking passengers' surivial rate in each category of 'Gener', 'Age', and 'Class'."
      ]
    },
    {
      "cell_type": "markdown",
      "metadata": {
        "id": "FDWQw8wjpxzj",
        "colab_type": "text"
      },
      "source": [
        "\n",
        "\n",
        "---\n",
        "QUESTION\t2: What\tother\tattributes\tdid\tyou\tuse\tfor\tthe\tanalysis?\tExplain\thow\tyou\tused\tthem.\tProvide\ta\t\n",
        "complete\tlist\tof\tall\tattributes\tused.\tà 2\tpoints\n"
      ]
    },
    {
      "cell_type": "markdown",
      "metadata": {
        "id": "yhE7U7GWp1C8",
        "colab_type": "text"
      },
      "source": [
        "A: List of Attributes use for analysis\n",
        "1. Passenger fare   *Table_3a / Table_3c*\n",
        "2. Number of siblings / spouses aboard   *Table_4*\n",
        "3. Number of parents / children aboard   *Table_5*\n",
        "4. Port of Embarkation  *Table_6*\n",
        "\n",
        "\n",
        "were all take into consideration.\n",
        "\n",
        "Only Passenger fare has strong positive correlation with survival rate, which shows in ***Table_3a and Table_3c***\n",
        "\n",
        "\n",
        "\n",
        "---\n",
        "\n"
      ]
    },
    {
      "cell_type": "markdown",
      "metadata": {
        "id": "Eutdme1OuiOd",
        "colab_type": "text"
      },
      "source": [
        "QUESTION\t3: Did\tyou\tengineer\tany\tattributes?\tIf\tyes,\texplain\tthe\trationale\tand\thow\tthe\tnew\tattributes\t\n",
        "were\tused\tin\tthe\tanalysis?\tIf\tyou\thave\texcluded\tany\tattributes\tfrom\tthe\tanalysis,\tprovide\tan\texplanation\t\n",
        "why\tyou\tbelieve\tthey\thave\tto\tbe\texcluded\tà 2\tpoints"
      ]
    },
    {
      "cell_type": "markdown",
      "metadata": {
        "id": "8nGA8DnKun3Y",
        "colab_type": "text"
      },
      "source": [
        "A: \n",
        "**New attribute**\n",
        "I create a new attribute column defined by different age stages of passenger, since grouping people of different ages stages helps to analyze the data wtih more significance.\n",
        "\n",
        "**Exclutions:**\n",
        "1. Exclude attribute \"cabin\" since it has too many vacancies to make reasonable analysis\n",
        "2. Exclude attribute \"Ticket\" since the ticket numbers were just random reference numbers, and they are meaningless to survival rate\n",
        "\n",
        "\n",
        "\n",
        "---\n",
        "\n"
      ]
    },
    {
      "cell_type": "markdown",
      "metadata": {
        "id": "HuOt48OLwbQL",
        "colab_type": "text"
      },
      "source": [
        "QUESTION\t4: How\tdid\tyou\ttreat\tmissing\tvalues?\tProvide\ta\tdetailed\texplanation\tin\tthe\tcomments.\tà 2\t\n",
        "points"
      ]
    },
    {
      "cell_type": "markdown",
      "metadata": {
        "id": "WPnDxMdxwcsp",
        "colab_type": "text"
      },
      "source": [
        "\n",
        "*   \"Cabin\" has more than 50% of Vacancies. Therefore, there is no necessary to replacing the Missing-value.\n",
        "*   Replace all vacancies of \"Age\" with the average age of remaining, because age is normally distributed and there are no extremes.\n",
        "*   Replace the 2 mississ entries of 'Embarked' with major Embark port 'S' beacasue port 'S' is the absolute mojority in numbers (644 out of 891)\n",
        "\n"
      ]
    }
  ]
}